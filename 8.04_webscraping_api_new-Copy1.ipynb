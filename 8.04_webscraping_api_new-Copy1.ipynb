{
 "cells": [
  {
   "cell_type": "markdown",
   "metadata": {
    "id": "FhJpNqEVg5_2"
   },
   "source": [
    "# LAB for webscraping api \n",
    "## Go through class material and explain it with # hash tag"
   ]
  },
  {
   "cell_type": "code",
   "execution_count": 25,
   "metadata": {
    "colab": {
     "base_uri": "https://localhost:8080/"
    },
    "executionInfo": {
     "elapsed": 505,
     "status": "ok",
     "timestamp": 1694524268779,
     "user": {
      "displayName": "Felipe Rocha",
      "userId": "13209801955446981393"
     },
     "user_tz": -60
    },
    "id": "neoZevtNg5_6",
    "outputId": "5f370499-d034-4ea7-d1bb-26fbfd16f239",
    "scrolled": true
   },
   "outputs": [
    {
     "name": "stdout",
     "output_type": "stream",
     "text": [
      "{\"count\":3364,\"items\":[\"KSAF\",\"PAEN\",\"UUOB\",\"EGLL\",\"KCAK\",\"KITH\",\"LEGE\",\"OEHL\",\"ZBYC\",\"ZSSH\",\"HKKI\",\"KSGF\",\"KTVC\",\"USRK\",\"VYKI\",\"CYKF\",\"CYYJ\",\"LGKJ\",\"PASH\",\"VIPT\",\"WIII\",\"CYZR\",\"FALA\",\"FTTY\",\"KBFF\",\"KMIA\",\"SBVH\",\"WMKN\",\"YMAE\",\"ZGGG\",\"CYFC\",\"KFAT\",\"OISS\",\"SKPD\",\"ENLK\",\"KGLH\",\"LFRZ\",\"NZWB\",\"RJBB\",\"RKTH\",\"SBTC\",\"VOGO\",\"ZYJZ\",\"CYXS\",\"ENGM\",\"EPWR\",\"OIZC\",\"PAPB\",\"ROAH\",\"UKLL\",\"VVPB\",\"BGPT\",\"GVSF\",\"HKMO\",\"SAZS\",\"YFTZ\",\"CCZ2\",\"KDSM\",\"NTTR\",\"PAUK\",\"UNEE\",\"WBKL\",\"ZBTL\",\"EGPN\",\"KBED\",\"KBZN\",\"LFRD\",\"PAKP\",\"SVMC\",\"DTTJ\",\"EDDF\",\"LEJR\",\"MBSY\",\"NFNA\",\"NTTO\",\"PAJZ\",\"SCSE\",\"UUYY\",\"YMTG\",\"AYMS\",\"LTCR\",\"MYGF\",\"SBDB\",\"WBGQ\",\"DIOD\",\"ENFL\",\"KCRW\",\"KJMS\",\"LTDA\",\"MYSM\",\"NTGQ\",\"SBTT\",\"DTNH\",\"ENHV\",\"KCLE\",\"MBGT\",\"OIBL\",\"SBPV\",\"VIJP\",\"YIVL\",\"ZUZH\",\"CAP3\",\"CYSM\",\"MHSC\",\"OEDF\",\"RJKI\",\"RPMH\",\"SECU\",\"YWBS\",\"KSLC\",\"LEMI\",\"LTFE\",\"SKCC\",\"ZLZY\",\"CYWJ\",\"KFLL\",\"LIMF\",\"MDJB\",\"NZCH\",\"PFKU\",\"UAUU\",\"KSNA\",\"LEBZ\",\"LICB\",\"MMPG\",\"PASA\",\"SWTS\",\"VLSK\",\"WIDN\",\"ZHNY\",\"PAWI\",\"RJCC\",\"SWGN\",\"VYTL\",\"CYGW\",\"FAPE\",\"KBJI\",\"KDAL\",\"KYKM\",\"UWPS\",\"CYHR\",\"EYKA\",\"RPMY\",\"CYPO\",\"DNMK\",\"DTTX\",\"EDDS\",\"EFIV\",\"SBBR\",\"SPSF\",\"TJPS\",\"WARA\",\"ZBYZ\",\"ZGCD\",\"AYTU\",\"KMCK\",\"LFMN\",\"LIPX\",\"MMMT\",\"SBKG\",\"URWI\",\"VVTS\",\"FBKE\",\"KAVP\",\"LFKC\",\"OESK\",\"SPRU\",\"TJSJ\",\"VIAL\",\"YTRE\",\"CYBG\",\"CYIO\",\"CYYY\",\"EDSB\",\"EHRD\",\"ESSB\",\"SKBG\",\"UKLI\",\"URMN\",\"YBPN\",\"YMIA\",\"YSII\",\"LTCP\",\"MDSD\",\"MRQP\",\"MWCR\",\"NVVI\",\"SBLO\",\"CYBC\",\"CYEV\",\"LGHI\",\"NVSV\",\"NVVB\",\"NZNS\",\"SCIP\",\"SYGO\",\"UOOO\",\"FWCL\",\"GMMZ\",\"HKLU\",\"KJLN\",\"SKAS\",\"SVVG\",\"TFFR\",\"ULMK\",\"CYUL\",\"ENRA\",\"KHOT\",\"USHH\",\"EGSH\",\"LQBK\",\"PGSN\",\"SKVP\",\"CYZF\",\"FAOR\",\"KLUK\",\"KSMX\",\"RPMR\",\"SBUR\",\"WBSB\",\"WIMM\",\"DAUE\",\"KBGM\",\"KCGF\",\"OPPS\",\"ROIG\",\"USRR\",\"UWLL\",\"VTST\",\"CYTE\",\"LFQQ\",\"LHDC\",\"UUDL\",\"WAMW\",\"YBOI\",\"LPPD\",\"NVSN\",\"SBCG\",\"SWMW\",\"AYGN\",\"HEMA\",\"KBHM\",\"KBQK\",\"KLNS\",\"RPVD\",\"FKKD\",\"KFLG\",\"RPVE\",\"SBQV\",\"EIKN\",\"LEGR\",\"OISL\",\"SKPE\",\"ZWAT\",\"OIMT\",\"SAAV\",\"SBCB\",\"VVDN\",\"YLRE\",\"ZYHE\",\"CYHA\",\"KDAY\",\"LFOB\",\"PAHU\",\"ZBSJ\",\"CYAT\",\"HCMF\",\"KPDT\",\"PAAL\",\"KLEB\",\"RPVU\",\"UWKJ\",\"DGSI\",\"EGGP\",\"NVVF\",\"PABL\",\"FVHA\",\"MUCU\",\"VAAU\",\"WIOS\",\"YSSY\",\"KACK\",\"PACI\",\"SPLO\",\"YPPH\",\"ZGBH\",\"CYVL\",\"EPMO\",\"FYWB\",\"NGNU\",\"URWA\",\"VTSS\",\"BGTL\",\"ESDF\",\"KOAK\",\"NTMN\",\"VMMC\",\"VOCI\",\"WAPI\",\"ZMUG\",\"DAOY\",\"SKGP\",\"UAAA\",\"YPLM\",\"CYBX\",\"ENNM\",\"HEAT\",\"KSLN\",\"NTGT\",\"TJMZ\",\"VTBS\",\"YPCC\",\"EKRN\",\"ENMH\",\"KACV\",\"KTUS\",\"MDST\",\"OMAA\",\"PAKF\",\"RJFE\",\"FQTT\",\"FQVL\",\"KCSG\",\"KPGA\",\"NTAA\",\"VIPK\",\"VOMD\",\"YCBA\",\"PAHN\",\"PHMU\",\"SAAR\",\"UHWW\",\"WABO\",\"YWTN\",\"KBHB\",\"KHRO\",\"LTCK\",\"LTFD\",\"WMKL\",\"ZUYB\",\"EGCC\",\"ESNX\",\"GVNP\",\"HSSS\",\"KCOS\",\"KDDC\",\"KGTF\",\"KOGD\",\"LIMC\",\"RJEO\",\"ZLIC\",\"FMEP\",\"GEML\",\"KLBF\",\"KSMF\",\"LFBZ\",\"PPIZ\",\"SBAE\",\"SBGR\",\"FYRU\",\"KLWB\",\"KSHD\",\"USCC\",\"VANP\",\"VELP\",\"VTUI\",\"YPLC\",\"SBDO\",\"USDS\",\"YKUB\",\"YSNF\",\"YTGM\",\"CYBD\",\"KABI\",\"MMAS\",\"NZPN\",\"UTDT\",\"VCCS\",\"ZBLA\",\"BIIS\",\"FMCI\",\"KEWN\",\"LIPQ\",\"NZNR\",\"SNRU\",\"CYRT\",\"KMCN\",\"RJAA\",\"RJDC\",\"SBCT\",\"SWJN\",\"YPPD\",\"CYCA\",\"ESNK\",\"WATB\",\"WBGM\",\"YBCK\",\"YHBA\",\"GCTS\",\"LGKY\",\"PABA\",\"SKAR\",\"VIJU\",\"WION\",\"ZLJQ\",\"FNCT\",\"LFTW\",\"LIEO\",\"MMTC\",\"NTGK\",\"RJOW\",\"VNDH\",\"WBGF\",\"CYVZ\",\"KMCW\",\"KRKS\",\"LGSY\",\"OETF\",\"PHMK\",\"SAEZ\",\"BGUK\",\"CYHI\",\"FMMT\",\"GCLP\",\"PAWN\",\"UUDD\",\"WBGJ\",\"CAD4\",\"CYUT\",\"LGLM\",\"UKOH\",\"EDNY\",\"LFBO\",\"LTAC\",\"NLWF\",\"RJNT\",\"SBSR\",\"LDDU\",\"LRSB\",\"MMEP\",\"VVDB\",\"EPWA\",\"FAKM\",\"KSBY\",\"LFBI\",\"LTCG\",\"LUKK\",\"OIZI\",\"UHKK\",\"DAUU\",\"DNAS\",\"EFPO\",\"EFSA\",\"KBKW\",\"PALB\",\"SARI\",\"UIII\",\"CYAZ\",\"HKSB\",\"HTTB\",\"KCHA\",\"LRTM\",\"PFAL\",\"UEBB\",\"ZBUH\",\"DIKO\",\"EFKE\",\"EGNV\",\"OLBA\",\"UENW\",\"YBIE\",\"ZGBS\",\"OKBK\",\"SBMK\",\"SVMI\",\"ULAS\",\"YPKU\",\"CYAS\",\"DNKN\",\"ENKB\",\"FIMR\",\"KGGG\",\"SBTB\",\"VOBL\",\"WITT\",\"DABB\",\"HRZA\",\"KCHS\",\"SAVC\",\"SKLC\",\"UAOO\",\"UTSS\",\"HLLM\",\"KLAW\",\"KMKL\",\"LFKB\",\"SCEL\",\"SWRD\",\"VVTH\",\"YNAR\",\"CYNL\",\"FARB\",\"MYAM\",\"OPMT\",\"RCNN\",\"SVMG\",\"SWSI\",\"VYLK\",\"YSHK\",\"ZWSH\",\"CYQB\",\"EDDC\",\"KCDR\",\"KSVC\",\"LBSF\",\"LFSB\",\"NVSU\",\"PAKO\",\"SVBC\",\"URWW\",\"ZSNJ\",\"GMFK\",\"HAGN\",\"LDZD\",\"LMML\",\"NTKO\",\"WIBB\",\"AYWD\",\"KJAN\",\"KMYR\",\"KPKB\",\"KRFD\",\"PABE\",\"PAIL\",\"PAOM\",\"TNCE\",\"ZLHZ\",\"DGTK\",\"FNGI\",\"FZAA\",\"LPAZ\",\"UATE\",\"VYEL\",\"HABD\",\"PFKA\",\"RPVF\",\"VYLS\",\"WALK\",\"HELX\",\"MMPN\",\"SBFN\",\"SPJR\",\"VNTR\",\"WAMR\",\"AGGL\",\"CKQ3\",\"EKSB\",\"PKWA\",\"SBMO\",\"SKBO\",\"AGGE\",\"OEBH\",\"SBMG\",\"SPUR\",\"URSS\",\"YWYY\",\"AGRM\",\"CYXE\",\"ESMQ\",\"NTKM\",\"NVSL\",\"PADU\",\"PHLI\",\"PKMJ\",\"TAPA\",\"VNNG\",\"VOAT\",\"WBKT\",\"FAKN\",\"FOON\",\"KDRT\",\"KORH\",\"LRIA\",\"MMCP\",\"YGTH\",\"ZWTP\",\"FAGG\",\"GCLA\",\"LIRZ\",\"OPZB\",\"USHI\",\"FQLC\",\"ZSWH\",\"KMEM\",\"MUCC\",\"NZKK\",\"OITM\",\"SBDN\",\"YNBR\",\"EPKK\",\"FZKA\",\"LIPY\",\"PATG\",\"SARE\",\"VTCH\",\"VYMK\",\"WAKT\",\"ZPLC\",\"FLMF\",\"LFRB\",\"WBGR\",\"ZSAM\",\"ENSO\",\"KFAY\",\"MGMM\",\"RJTH\",\"HUPA\",\"YLHI\",\"EKCH\",\"KJAX\",\"OERR\",\"ORMM\",\"PHJH\",\"USRO\",\"VYTD\",\"HUEN\",\"MMLT\",\"MMTG\",\"OIBQ\",\"ANYN\",\"KMRY\",\"KPIH\",\"NFVB\",\"RJFC\",\"RKJY\",\"TNCB\",\"VIBK\",\"VQPR\",\"AGAT\",\"FNUB\",\"PAIW\",\"SACO\",\"YBDG\",\"HLLS\",\"OEAH\",\"SSSC\",\"VTCC\",\"WIOD\",\"CYHD\",\"KDBQ\",\"KVNY\",\"PFNO\",\"SKBQ\",\"CZUM\",\"DAUI\",\"HTKA\",\"KALW\",\"KTEB\",\"MMML\",\"MMPS\",\"NVVA\",\"YBTH\",\"YRMD\",\"CCK4\",\"LIPK\",\"PFYU\",\"SCCI\",\"YNWN\",\"ZSJJ\",\"CYYG\",\"KCCR\",\"KJBR\",\"LFCK\",\"LGPL\",\"LTCJ\",\"PADY\",\"VEPG\",\"VNVT\",\"WBKS\",\"ZBTS\",\"CYXP\",\"CYYC\",\"EDDP\",\"OIKY\",\"SBPL\",\"UTAM\",\"WATR\",\"YNRV\",\"CYCD\",\"CZFD\",\"HTMT\",\"MMCU\",\"SAVY\",\"AGGS\",\"DNEN\",\"HKLY\",\"LTAU\",\"MYLS\",\"SBIZ\",\"SSKW\",\"TNCM\",\"VVDL\",\"CYVM\",\"LGKZ\",\"LGNX\",\"NGTM\",\"PAPH\",\"YMDG\",\"EGBB\",\"HTAR\",\"KGTR\",\"MMHO\",\"PADG\",\"UUYW\",\"WAOS\",\"DABS\",\"FLKL\",\"FTTJ\",\"LERJ\",\"ORNI\",\"PHNY\",\"SBPA\",\"FGBT\",\"LBPD\",\"LGKO\",\"YBAS\",\"FANG\",\"LGMT\",\"LTFM\",\"RCMQ\",\"TFFF\",\"UTFN\",\"WAAA\",\"WAPP\",\"YBMK\",\"FASZ\",\"KGSP\",\"LGSO\",\"LIBP\",\"OOSA\",\"URML\",\"UTAV\",\"EDXW\",\"EFJO\",\"ENBO\",\"ESGG\",\"PARC\",\"SBIL\",\"SPJJ\",\"WAMM\",\"KIMT\",\"LRSV\",\"LTAI\",\"OABT\",\"RPMD\",\"UGSB\",\"AGGM\",\"FSPP\",\"HKJK\",\"LRSM\",\"ORER\",\"RORY\",\"SKGO\",\"ZSXZ\",\"ESMT\",\"SBKP\",\"CYWG\",\"KALS\",\"KHRL\",\"KMFE\",\"KPHX\",\"NGTE\",\"PAKH\",\"SBGO\",\"SKBS\",\"VQGP\",\"LGKF\",\"RJOA\",\"VGBR\",\"VIBY\",\"WATM\",\"ZPSM\",\"ZUXC\",\"ZYFY\",\"CZMT\",\"GMAZ\",\"KBRL\",\"KLEX\",\"LGML\",\"RJBE\",\"CYRL\",\"EFKI\",\"GLRB\",\"KBOS\",\"LEAG\",\"RJNK\",\"ZUKJ\",\"MTCH\",\"URMM\",\"VEMR\",\"YELD\",\"ZLTS\",\"AYMD\",\"HTLM\",\"LEBG\",\"SASJ\",\"WAJW\",\"YSWG\",\"ZGHA\",\"ZSTX\",\"AGGT\",\"KBJC\",\"LFBD\",\"LOWW\",\"MYAN\",\"PAWG\",\"SANT\",\"VELR\",\"ZGSZ\",\"DATG\",\"OEAO\",\"OICC\",\"OMAL\",\"VISR\",\"WBGW\",\"YMLT\",\"KMKC\",\"KOAJ\",\"KSUX\",\"LGIK\",\"LGKC\",\"LZIB\",\"SGAS\",\"ZYCY\",\"ZYMD\",\"CYUX\",\"DABT\",\"DAOI\",\"KIRK\",\"LDZA\",\"MMTJ\",\"SBCY\",\"DGLE\",\"EBAW\",\"EGAE\",\"KACT\",\"LDRI\",\"VIBR\",\"CYLA\",\"HABC\",\"HUJI\",\"KELP\",\"KSTC\",\"LRBM\",\"SKSV\",\"UBBG\",\"VAAH\",\"VICG\",\"VOBM\",\"YCKN\",\"EPBY\",\"KIAG\",\"UAII\",\"EGPA\",\"ESNQ\",\"FMNN\",\"FZNA\",\"HSSJ\",\"KSJT\",\"PANW\",\"SSER\",\"WICC\",\"KGJT\",\"NGON\",\"PASK\",\"SANC\",\"YMAV\",\"FMST\",\"HTDA\",\"HTSN\",\"KCHO\",\"KEKO\",\"KPBI\",\"SAZN\",\"ZYAS\",\"ENHK\",\"FQMA\",\"PAFM\",\"LIBC\",\"LIRA\",\"SBRP\",\"USHS\",\"EGEC\",\"FCBB\",\"PASD\",\"SBCF\",\"UHHH\",\"VIDP\",\"CYMX\",\"RPUW\",\"SBMQ\",\"WBMU\",\"CYGL\",\"KMSP\",\"PAOH\",\"VRMK\",\"WIDD\",\"CYHU\",\"GCHI\",\"KAUS\",\"KBTM\",\"LFRN\",\"SCCF\",\"SWLC\",\"ZUCK\",\"CZEM\",\"OESH\",\"OPLA\",\"ZSSS\",\"KMGW\",\"KMHR\",\"LFMT\",\"LPFL\",\"NTGC\",\"PAPE\",\"UTDK\",\"VNSI\",\"YYMI\",\"NTKR\",\"AYTA\",\"LKPD\",\"OEDW\",\"SBPB\",\"URKK\",\"VAID\",\"YPAD\",\"AYTK\",\"CYAG\",\"DAUK\",\"KBFL\",\"KHLN\",\"MDPP\",\"WABB\",\"ZYYJ\",\"MMMZ\",\"MUCL\",\"NCAI\",\"PADQ\",\"RJSK\",\"SSZR\",\"KGNV\",\"KMTJ\",\"SKLG\",\"ZLXN\",\"ZSWZ\",\"BGSF\",\"EBLG\",\"FLSW\",\"LFKJ\",\"UASP\",\"VEBS\",\"YWDH\",\"ZGWZ\",\"GMTA\",\"MBSC\",\"MMDO\",\"NFTF\",\"CYPW\",\"ESNS\",\"GCXO\",\"PTKK\",\"YBCS\",\"YESP\",\"YMML\",\"YTNK\",\"CYQR\",\"EDDB\",\"KHGR\",\"KSAN\",\"OPSD\",\"VRMO\",\"WAPL\",\"YTEF\",\"AYDU\",\"DBBB\",\"KGRK\",\"UNWW\",\"ZHHH\",\"DNCA\",\"MMCM\",\"PAYA\",\"SKCG\",\"WIOK\",\"FVBU\",\"HKML\",\"KSDL\",\"MKJS\",\"MUSC\",\"PFCB\",\"USCM\",\"YHUG\",\"YMNE\",\"GOGG\",\"HEGN\",\"LIME\",\"MMTP\",\"ROKJ\",\"SCJO\",\"ZMDN\",\"EGOV\",\"SWEI\",\"VABO\",\"VGCB\",\"AYKY\",\"FZWA\",\"KMDT\",\"LFBL\",\"OPQT\",\"SKTM\",\"CCP4\",\"DAUL\",\"EBCI\",\"EDVE\",\"OEWJ\",\"OPBW\",\"SBHT\",\"TUPW\",\"WARQ\",\"ZGOW\",\"KBMI\",\"MMGL\",\"MYER\",\"UKLU\",\"VLLN\",\"CYZP\",\"LFSL\",\"MPCH\",\"MYLD\",\"VTUO\",\"NVSA\",\"SPTN\",\"WABP\",\"CYEK\",\"KRST\",\"KWYS\",\"MMVA\",\"SVPR\",\"VTBD\",\"VTCP\",\"YSGE\",\"ZUGY\",\"CYPR\",\"KTBN\",\"WATO\",\"YLRD\",\"CYYB\",\"KBUF\",\"KGPT\",\"LEVD\",\"LTCS\",\"SANH\",\"SAVT\",\"UTAT\",\"VARP\",\"ELLX\",\"LGLE\",\"LIBD\",\"LJLJ\",\"NTGN\",\"RJOR\",\"SBCR\",\"SPYL\",\"VCBI\",\"BGGH\",\"CYMM\",\"FAPP\",\"PAML\",\"YJLC\",\"ZUWX\",\"GCRR\",\"GMMH\",\"LEVX\",\"LRCK\",\"MMZH\",\"NZCI\",\"WICT\",\"ZMAT\",\"RJFK\",\"RJKB\",\"SNOX\",\"SPQT\",\"UUYS\",\"UWKS\",\"CYMU\",\"DFFD\",\"EGGD\",\"KTEX\",\"KTOL\",\"MMUN\",\"NVSQ\",\"PAQT\",\"UTDD\",\"VTBU\",\"KAPN\",\"MMIA\",\"NVSW\",\"UUWW\",\"ZUTR\",\"ZUUU\",\"ZWTC\",\"HTIR\",\"KTUL\",\"PAGM\",\"SECO\",\"SKPC\",\"VGRJ\",\"VTUL\",\"ZPPP\",\"KSGU\",\"OIMS\",\"ULOO\",\"VASU\",\"CYGZ\",\"DNAK\",\"GMMI\",\"OINR\",\"PFSH\",\"RPMO\",\"SKUI\",\"SKYP\",\"VIGR\",\"KMFR\",\"LIRQ\",\"PAPN\",\"UIBB\",\"FMMI\",\"VNBP\",\"ZGMX\",\"LEAM\",\"NTGD\",\"ZBCF\",\"AYNZ\",\"EGCN\",\"KPDK\",\"LFBP\",\"RJOM\",\"SANL\",\"SBBE\",\"UENI\",\"VNLK\",\"NGTR\",\"OEPA\",\"OICK\",\"OING\",\"RJNO\",\"WATE\",\"DAAE\",\"DNBE\",\"EDDE\",\"HTZA\",\"KORD\",\"KRIC\",\"MPPA\",\"OETB\",\"PAVA\",\"TNCC\",\"CYPA\",\"FGSL\",\"FMNR\",\"KCID\",\"KELM\",\"RPME\",\"CYVQ\",\"ENEV\",\"KBPT\",\"KEUG\",\"KLGB\",\"LIRF\",\"MMCE\",\"NTGU\",\"OIII\",\"VABJ\",\"VAJM\",\"VVCM\",\"BGKK\",\"EGNJ\",\"GFLL\",\"KACY\",\"NFKD\",\"OAZJ\",\"RJSM\",\"SWFX\",\"UEVV\",\"VNBW\",\"ZSPD\",\"DAOF\",\"FMEE\",\"OIFS\",\"RJNS\",\"RPNS\",\"RPUT\",\"VRMH\",\"EDDW\",\"KDAB\",\"KPWM\",\"SBFI\",\"SBMS\",\"SKLT\",\"ZPJH\",\"AYPY\",\"KCOU\",\"KCRP\",\"KFWA\",\"KMHK\",\"NVSS\",\"RJEC\",\"SLVR\",\"YWWI\",\"EGPK\",\"LCEN\",\"RPVI\",\"VDPP\",\"YABA\",\"ZSJD\",\"CCE4\",\"CYSF\",\"SBFZ\",\"SEST\",\"OSKL\",\"RCFN\",\"RJOH\",\"RKND\",\"TIST\",\"WIPA\",\"BGJN\",\"KMSY\",\"NZPP\",\"SBSM\",\"VTSC\",\"KAMA\",\"VAPO\",\"VOMY\",\"ZBAA\",\"ZGNN\",\"CYGP\",\"FYOA\",\"LIRJ\",\"PATQ\",\"SBVT\",\"UTST\",\"UUBA\",\"CYXH\",\"CYYZ\",\"LFRG\",\"PHOG\",\"VOHS\",\"ZHXF\",\"EYPA\",\"UDYZ\",\"VAKP\",\"WIOP\",\"KPIR\",\"LFMU\",\"LOWK\",\"SCGE\",\"YCDU\",\"YMOR\",\"CYLU\",\"CZBB\",\"KASE\",\"KBIH\",\"KORF\",\"PAIK\",\"RPVR\",\"VIJO\",\"CYYF\",\"FIMP\",\"KCPS\",\"NGMA\",\"TFFG\",\"MYGM\",\"PAVE\",\"SBCH\",\"SPNC\",\"GMMX\",\"OPCH\",\"RJNA\",\"ULWW\",\"VIDN\",\"VLLB\",\"CYCB\",\"EGJJ\",\"EHAM\",\"ESNZ\",\"FSIA\",\"KROA\",\"MMZC\",\"NVSF\",\"RORS\",\"UHKM\",\"FBMN\",\"FZRF\",\"LGBL\",\"NTAM\",\"RJCB\",\"VQBT\",\"WBGI\",\"YGEL\",\"YPGV\",\"DNGO\",\"HALL\",\"HCMM\",\"LGKL\",\"MUHG\",\"PACR\",\"SWLB\",\"USHU\",\"GCFV\",\"GUCY\",\"KBBG\",\"KBFD\",\"LTCN\",\"LTFG\",\"NFNS\",\"NVST\",\"PHTO\",\"RPUN\",\"SBCJ\",\"YBGO\",\"AGKG\",\"LGSM\",\"NFNL\",\"RJSR\",\"UHSS\",\"YCMU\",\"EKYT\",\"FAHS\",\"LDPL\",\"MHLM\",\"PACV\",\"VLFL\",\"KLIT\",\"VNRB\",\"VOHB\",\"ZWCM\",\"BGQQ\",\"CYDF\",\"HUMA\",\"USSS\",\"ZWYN\",\"ZYTN\",\"ESND\",\"LPSJ\",\"LZKZ\",\"UHSH\",\"UUOK\",\"WIMG\",\"HEBL\",\"KHDN\",\"KPVD\",\"MNMG\",\"RCFG\",\"UECT\",\"VA1P\",\"VTPP\",\"YAYE\",\"KOGS\",\"UNNT\",\"CYBL\",\"CYFS\",\"EEKE\",\"NVSH\",\"SBJI\",\"WBKK\",\"ZWHM\",\"HHAS\",\"LTCT\",\"OIMM\",\"RJSN\",\"SBSN\",\"VAKE\",\"ZHLY\",\"DXXX\",\"KEWB\",\"RKJJ\",\"SKVV\",\"VOML\",\"ESSA\",\"HTDO\",\"KGUC\",\"KSRQ\",\"MHLC\",\"WMKK\",\"ENSB\",\"FBSK\",\"KSPS\",\"LGAL\",\"SPHO\",\"UWPP\",\"VAND\",\"WAJO\",\"CYOJ\",\"KABE\",\"KAPC\",\"RCBS\",\"SPCL\",\"UTFF\",\"VABB\",\"VNJS\",\"VRMR\",\"VVCR\",\"AGGR\",\"DNBA\",\"HETB\",\"OPGT\",\"PAMB\",\"UHWK\",\"DGAA\",\"KSMD\",\"LSGG\",\"LWSK\",\"OIKR\",\"PADM\",\"SVLF\",\"KMOB\",\"MHTG\",\"NTMD\",\"UKKK\",\"VVPK\",\"ZWTN\",\"ENRS\",\"KELD\",\"SBCZ\",\"UKFF\",\"ZBZJ\",\"KBDR\",\"LPCR\",\"SNGI\",\"UHPP\",\"VTSF\",\"YPMP\",\"EGHH\",\"KDIK\",\"MDLR\",\"UWUU\",\"VYSW\",\"ENOV\",\"KDTW\",\"MSLP\",\"OENG\",\"OITP\",\"AGAR\",\"ENMS\",\"KMKG\",\"KVPS\",\"SBIP\",\"YLST\",\"ENZV\",\"YKSC\",\"ZSLD\",\"CYLW\",\"FALE\",\"OIZH\",\"SBEG\",\"SCPQ\",\"CYYT\",\"FPPR\",\"FQPB\",\"GMAG\",\"KDEC\",\"NTKT\",\"VAUD\",\"YBKE\",\"ZHES\",\"HESN\",\"MMBT\",\"NGTS\",\"OOMS\",\"WIPP\",\"KBIS\",\"KMGM\",\"OEBA\",\"PALJ\",\"SKPP\",\"SVMT\",\"VVVH\",\"WMKJ\",\"ENSD\",\"KPHL\",\"LKTB\",\"NTTG\",\"PASC\",\"TFFJ\",\"TNCA\",\"CYQK\",\"EBBR\",\"KPIB\",\"SKBU\",\"UNKY\",\"CYIK\",\"DAOB\",\"EHEH\",\"FLLS\",\"FNSA\",\"KUNV\",\"PAWM\",\"VVDH\",\"YHID\",\"EHGG\",\"KSEA\",\"OISR\",\"RKNW\",\"UKOO\",\"CYHY\",\"CYVC\",\"FAUP\",\"KBOI\",\"KBTR\",\"LTCF\",\"NVSP\",\"RJOK\",\"SBJU\",\"SCNT\",\"USDP\",\"YDBY\",\"FOOG\",\"KTUP\",\"LTCL\",\"MUHA\",\"UUYP\",\"VARK\",\"ZBDT\",\"ZYHB\",\"DRRN\",\"HECA\",\"NTGF\",\"UITT\",\"USMU\",\"WAPG\",\"FEFF\",\"KRNT\",\"RJFM\",\"VILK\",\"EGJA\",\"EPKT\",\"KPVC\",\"MZBZ\",\"DAUB\",\"EDJA\",\"HKAM\",\"LPMA\",\"RJDB\",\"UELL\",\"VTUV\",\"WARS\",\"ZSGZ\",\"ESSL\",\"HKMS\",\"UIKK\",\"KALO\",\"LIEA\",\"LRCL\",\"NVVD\",\"OERF\",\"SKCO\",\"SOCA\",\"ZBHH\",\"NTGJ\",\"OIYY\",\"PAGS\",\"RJAH\",\"USMM\",\"YGFN\",\"ZBCZ\",\"DNPO\",\"KIND\",\"KJFK\",\"LYPG\",\"OSAP\",\"ZSYW\",\"ESNU\",\"KHND\",\"VTSG\",\"ZBTJ\",\"OIIE\",\"RJOT\",\"SSLT\",\"USHN\",\"VEPT\",\"VGSY\",\"ZUNC\",\"DTTA\",\"KROC\",\"NGAB\",\"UGKO\",\"YBRK\",\"HTMA\",\"KFSM\",\"KSTL\",\"LZTT\",\"SABE\",\"VYMD\",\"KPIE\",\"LEBB\",\"PAOB\",\"SAWE\",\"WATW\",\"CYHM\",\"EDAH\",\"EPSC\",\"OITK\",\"PAEM\",\"SCQP\",\"SWCA\",\"UASK\",\"VNCG\",\"ZUGU\",\"CYOC\",\"EFJY\",\"KAZO\",\"LPLA\",\"LSZB\",\"VRMG\",\"VTPH\",\"WASS\",\"YBNA\",\"EGKR\",\"KAGS\",\"KATY\",\"RCSS\",\"SMJP\",\"UUYI\",\"CYWL\",\"DAON\",\"FYWE\",\"KHVN\",\"MPTO\",\"PAAK\",\"YCBP\",\"YLHR\",\"ZBDS\",\"HEMK\",\"KSFB\",\"PHNL\",\"WAOI\",\"EETN\",\"TUPA\",\"WICP\",\"CYCY\",\"DNYO\",\"FMNM\",\"KRAP\",\"MMVR\",\"NTAR\",\"OIFM\",\"URKG\",\"VIAR\",\"VOCL\",\"ENAT\",\"PACM\",\"PAMY\",\"UUYX\",\"CYFT\",\"DAUH\",\"ENAN\",\"KDCA\",\"LGRX\",\"LICR\",\"MBPV\",\"RJCW\",\"SKIB\",\"WAMY\",\"YLEO\",\"HADR\",\"LRTR\",\"URMO\",\"VOTP\",\"YMTI\",\"CYVP\",\"CYLL\",\"CYPM\",\"EGFF\",\"EGPU\",\"ESOH\",\"FYWH\",\"PANC\",\"VCCB\",\"ZYJM\",\"AYWK\",\"EFTU\",\"FTTC\",\"NZNP\",\"SAVE\",\"VGSD\",\"YMGD\",\"CYCS\",\"CZWL\",\"KUIN\",\"PTSA\",\"RKJK\",\"YARY\",\"YBAR\",\"EBOS\",\"EPLB\",\"KCOD\",\"LECH\",\"PARY\",\"TQPF\",\"UARR\",\"NZWS\",\"UEBS\",\"UHBB\",\"LRCV\",\"MRTR\",\"PAOT\",\"SWRP\",\"UBBN\",\"DATM\",\"KCLL\",\"KSHR\",\"OAKN\",\"RCTP\",\"SLTR\",\"KPAE\",\"LFKF\",\"LFOK\",\"LGPA\",\"RJFG\",\"VTPM\",\"YARG\",\"ZSQZ\",\"BGBW\",\"EFVA\",\"KLAN\",\"LFML\",\"LFRQ\",\"MMCL\",\"VIAG\",\"DIMN\",\"KPNS\",\"MMMD\",\"TGPY\",\"UUOL\",\"WAPD\",\"YWLU\",\"ZWKL\",\"CYGT\",\"ENNA\",\"KEAU\",\"LFPG\",\"LTCI\",\"MMTO\",\"RJSS\",\"SEMT\",\"UUYH\",\"OIAD\",\"PAIG\",\"SPME\",\"UMKK\",\"WATT\",\"YBCV\",\"YROM\",\"EFKT\",\"HSPN\",\"LTAP\",\"NTAV\",\"UUEE\",\"VYKT\",\"ZUZY\",\"AYVN\",\"KSWO\",\"OTHH\",\"RKTU\",\"UTSK\",\"VLSN\",\"VVBM\",\"YOLD\",\"ZLXH\",\"AYHK\",\"DIAP\",\"EGAC\",\"FMSD\",\"HESH\",\"KBRD\",\"ZSJA\",\"KCVN\",\"KMBL\",\"KPSP\",\"SPHI\",\"WAKK\",\"YBOU\",\"SAZR\",\"SBJV\",\"VOVZ\",\"YBUD\",\"CYBE\",\"KTYR\",\"LEPA\",\"USTR\",\"ZSNT\",\"LIEE\",\"MMZO\",\"SBLE\",\"SKMR\",\"FTTA\",\"HTBU\",\"K1G4\",\"KMLB\",\"TLPL\",\"UERR\",\"AGGA\",\"GMAD\",\"GVSN\",\"LFLL\",\"RJKA\",\"VNKT\",\"VOPB\",\"ZGZJ\",\"HTMB\",\"KDFW\",\"MKJP\",\"OAFR\",\"UNBB\",\"CYQX\",\"KDRO\",\"LICG\",\"LYTV\",\"NZGS\",\"SBTS\",\"WARR\",\"ZSJN\",\"PACE\",\"ZLGM\",\"ESMX\",\"CSU2\",\"NTKF\",\"VGJR\",\"EGPH\",\"LFRS\",\"LIMJ\",\"MMCN\",\"ULAA\",\"URRP\",\"YPDN\",\"CYFO\",\"KCGI\",\"KRSW\",\"SKMZ\",\"YBWW\",\"ZMUL\",\"EDDR\",\"ESUT\",\"HKNY\",\"KLBB\",\"UUBW\",\"ZUAS\",\"EBKT\",\"KMWA\",\"LIMP\",\"OOFD\",\"OPSK\",\"SCGZ\",\"DAUT\",\"KLAS\",\"PFWS\",\"TKPK\",\"WAOO\",\"KVLD\",\"RJOO\",\"VNSK\",\"VYKP\",\"ENHD\",\"KCMX\",\"PAEE\",\"RPLI\",\"UERP\",\"DAAV\",\"FAEL\",\"HLKF\",\"KSAV\",\"MMMY\",\"ROMY\",\"YBRM\",\"CYRA\",\"HAJJ\",\"KCIU\",\"KIWD\",\"LTBR\",\"NTGH\",\"SKMU\",\"SKSJ\",\"UNKL\",\"VECC\",\"ZSWY\",\"KABR\",\"LEVT\",\"NTGM\",\"CYPX\",\"FTTD\",\"LEAS\",\"NZWR\",\"OIAM\",\"OSDI\",\"UKLN\",\"VABP\",\"YBAM\",\"AGGC\",\"KTRI\",\"OIAH\",\"PAMK\",\"PAQH\",\"RJOS\",\"SBJP\",\"ULMM\",\"WAOC\",\"CYHK\",\"KIPL\",\"KOKC\",\"PAII\",\"SARP\",\"WAMP\",\"YBLN\",\"ZGHZ\",\"CYNA\",\"FPST\",\"LERS\",\"MWCB\",\"NVSC\",\"OAFZ\",\"TVSA\",\"WAMT\",\"WAPH\",\"WASF\",\"EFOU\",\"ENVD\",\"KRUT\",\"LESO\",\"LFVP\",\"UEEA\",\"VTSP\",\"ZPDQ\",\"EDDV\",\"GOBD\",\"HSNN\",\"KJAC\",\"RPUV\",\"UESS\",\"USUU\",\"ZYDQ\",\"EHBK\",\"NTTB\",\"RJKN\",\"SBBV\",\"USKK\",\"YGTE\",\"ZYQQ\",\"OEMA\",\"PADL\",\"PAFA\",\"SAOC\",\"SKIP\",\"TTCP\",\"VETZ\",\"WAWR\",\"YSDU\",\"CYZT\",\"MMCS\",\"OETR\",\"SBPF\",\"ZUDX\",\"EDLP\",\"KHOB\",\"OMRK\",\"PATA\",\"RCKH\",\"URMT\",\"ZHCC\",\"EGKK\",\"HADC\",\"KBKL\",\"OIBB\",\"RJCM\",\"RPVB\",\"ZPZT\",\"ZSHC\",\"CYQD\",\"KMCI\",\"RJFR\",\"VEGK\",\"BGCO\",\"LOWS\",\"LTAR\",\"MTCA\",\"NZAP\",\"OPKC\",\"CYYQ\",\"OITR\",\"SLCB\",\"KAIA\",\"NIUE\",\"YCCT\",\"ZSWX\",\"CYQM\",\"DIBK\",\"KIWA\",\"KSDY\",\"SWPI\",\"TJBQ\",\"CYGK\",\"CYJQ\",\"FMNS\",\"HBBA\",\"LGIR\",\"RJBT\",\"RPMP\",\"UERS\",\"VDSR\",\"VYKG\",\"YARM\",\"YWLM\",\"MMIT\",\"MMLP\",\"RKPU\",\"SCBA\",\"ZGZH\",\"DAAP\",\"GVMA\",\"VVNB\",\"WBGL\",\"ZLXY\",\"KGDV\",\"LFOT\",\"SAZB\",\"BIEG\",\"DAUG\",\"KCNY\",\"LRBC\",\"LTFH\",\"NTGP\",\"UMMS\",\"ENVA\",\"KMMH\",\"LTFJ\",\"VAJB\",\"ZSFZ\",\"ZYCC\",\"BGUQ\",\"EIDW\",\"KCRQ\",\"KPDX\",\"KPSC\",\"UEST\",\"CYDQ\",\"CYEG\",\"CZKE\",\"KCDC\",\"KMSO\",\"LEXJ\",\"MYBS\",\"OJAQ\",\"ORSU\",\"PHKO\",\"EDLW\",\"EFKS\",\"ENBL\",\"KAVL\",\"KRDM\",\"MGGT\",\"ZSAQ\",\"PTPN\",\"SBPK\",\"SEQM\",\"UCFO\",\"UDSG\",\"ZPLJ\",\"KSFO\",\"PAHL\",\"SBRB\",\"SBSL\",\"EDFH\",\"EGAA\",\"KSBN\",\"NZWF\",\"PATC\",\"SLLP\",\"CYPN\",\"CYXY\",\"EGMC\",\"KLCH\",\"LEBL\",\"OITL\",\"RJFT\",\"TDPD\",\"WBGZ\",\"YBGD\",\"AYKA\",\"CYQG\",\"CYXU\",\"EGPR\",\"KLAR\",\"KSJC\",\"RPVT\",\"SAZM\",\"SKRH\",\"VLVT\",\"VRMT\",\"WIHH\",\"LGKP\",\"LICT\",\"LPGR\",\"NSTU\",\"NTAT\",\"PADE\",\"ENST\",\"PAVC\",\"SVCN\",\"KSAT\",\"LLBG\",\"LTAY\",\"VIJR\",\"YDPO\",\"AGGP\",\"EGPB\",\"EKEB\",\"FLND\",\"KCKB\",\"NFNR\",\"NLWW\",\"PASN\",\"WSSS\",\"CYBB\",\"ENBS\",\"FZQA\",\"LFLS\",\"RJAF\",\"YWHA\",\"HAGO\",\"KSCK\",\"SULS\",\"UHMD\",\"WADL\",\"WMKD\",\"HSGN\",\"LDSB\",\"NTHE\",\"ZUAL\",\"ZWBL\",\"CYSB\",\"LIPE\",\"RCYU\",\"WAPR\",\"WIPK\",\"YCFS\",\"ZWKN\",\"HAGB\",\"OICS\",\"PACD\",\"RPVM\",\"SAOU\",\"SKNQ\",\"UHMA\",\"VOTR\",\"YBHM\",\"YCOM\",\"CYDP\",\"HKWJ\",\"KPUB\",\"SBGV\",\"ZLZW\",\"ENKR\",\"KIDA\",\"RPUY\",\"SBMD\",\"SBUL\",\"SLYA\",\"UKDE\",\"VEGY\",\"CYWE\",\"HTMW\",\"OEAB\",\"OPKL\",\"RJCN\",\"SPQU\",\"VEBI\",\"AYKV\",\"ESNV\",\"GMTN\",\"KBTV\",\"RCKU\",\"WAJJ\",\"FADQ\",\"KSBD\",\"LEAL\",\"NTGE\",\"USII\",\"UUBC\",\"VEMN\",\"EFKK\",\"KBGR\",\"KCMI\",\"LEVC\",\"LIML\",\"LQSA\",\"WASK\",\"YKOW\",\"ZYLS\",\"CPV7\",\"CYFB\",\"DTTZ\",\"ENTO\",\"KFLO\",\"KRIW\",\"LGMK\",\"LPPT\",\"NZRO\",\"ZGFS\",\"AGGV\",\"LGRP\",\"NTTH\",\"PFCL\",\"RPVC\",\"UIKE\",\"YAUR\",\"ZWWW\",\"RPVS\",\"WBGT\",\"ZBUL\",\"ZLAK\",\"BIHU\",\"KLYH\",\"KMHT\",\"KOTH\",\"NTKN\",\"SBIH\",\"SPTU\",\"FMNA\",\"KVEL\",\"MMMX\",\"VVCA\",\"YDMG\",\"EGLC\",\"ENBV\",\"KBDL\",\"LEMD\",\"URMG\",\"HKEL\",\"WMSA\",\"ENBN\",\"GVSV\",\"KIAH\",\"KPIT\",\"LQTZ\",\"MMTM\",\"PAOR\",\"UNOO\",\"ZWKC\",\"EDDN\",\"FQCH\",\"KFNL\",\"NZAA\",\"PAKI\",\"WPDL\",\"ZSQD\",\"LYNI\",\"OOGB\",\"SBAU\",\"AYKI\",\"HTTG\",\"KHIB\",\"LKMT\",\"OPRK\",\"SLSU\",\"TISX\",\"URKA\",\"VOTV\",\"WADW\",\"FNUE\",\"MYEH\",\"PALU\",\"RJDT\",\"UTFA\",\"UWLW\",\"AGGK\",\"CYHZ\",\"KBFI\",\"KDLH\",\"LTCE\",\"SEGS\",\"AYTB\",\"CYXC\",\"GQPZ\",\"KDVL\",\"LPPS\",\"LTCC\",\"SNBR\",\"VLOS\",\"WBGB\",\"DAAS\",\"EGNS\",\"FQIN\",\"SCFM\",\"UGTB\",\"VCCK\",\"VTCL\",\"YLIS\",\"EDVK\",\"EGNX\",\"HUKS\",\"SNMA\",\"KLNK\",\"NTGA\",\"RPLP\",\"SBNF\",\"SKFL\",\"UHSK\",\"VEAT\",\"ZBER\",\"KFXE\",\"PHLU\",\"TTPP\",\"WAWB\",\"YBKT\",\"KAOO\",\"SBGL\",\"SLCO\",\"ULLI\",\"EDDK\",\"HAGM\",\"NTUV\",\"OEYN\",\"RJFS\",\"USDK\",\"WBGS\",\"YOLW\",\"KAUO\",\"KBLI\",\"KDTS\",\"KOWB\",\"KRNO\",\"LTCU\",\"ZJHK\",\"CYQY\",\"ESNL\",\"KART\",\"KLGA\",\"KSUN\",\"VABI\",\"VYHH\",\"ZBHD\",\"CZSJ\",\"HAAB\",\"KHSV\",\"VYMW\",\"YBDV\",\"EGNM\",\"VIBN\",\"VOCB\",\"WAMI\",\"YMEN\",\"GMMW\",\"OMDB\",\"PASI\",\"EKAH\",\"HKUK\",\"KFNT\",\"LYBE\",\"OIGG\",\"SBTF\",\"UATG\",\"KEYW\",\"PFEL\",\"SKCZ\",\"SKNV\",\"ZBOW\",\"CYMT\",\"EGPF\",\"KMVY\",\"NGBR\",\"SBSP\",\"ZSNB\",\"ZSOF\",\"ESOW\",\"LCPH\",\"SBME\",\"WARB\",\"ZSZS\",\"FNHU\",\"KBWI\",\"KGRR\",\"LFRK\",\"MYEM\",\"PAWB\",\"VTSB\",\"YMOG\",\"ZGDY\",\"CYKL\",\"KMLU\",\"KNYL\",\"LEZL\",\"LTCA\",\"NTKK\",\"PAEW\",\"PAVL\",\"DAAT\",\"EGJB\",\"EGNT\",\"ESUP\",\"KATL\",\"KBLV\",\"NVVV\",\"SBPJ\",\"VCRI\",\"ZLYA\",\"ZYDD\",\"KGRB\",\"SKMD\",\"SLRI\",\"ZSCN\",\"ENSS\",\"HKLO\",\"PAGH\",\"WIOO\",\"KABQ\",\"PAKK\",\"VVCI\",\"WASR\",\"CYPY\",\"EFKU\",\"EGHQ\",\"EVRA\",\"LPHR\",\"SAME\",\"UNAA\",\"CYKQ\",\"EGPD\",\"FMCH\",\"HTPE\",\"KFOD\",\"OINZ\",\"PAKN\",\"TXKF\",\"UTAK\",\"HRYR\",\"LIPR\",\"LTBY\",\"NGKT\",\"NVSI\",\"OIKB\",\"VNPK\",\"YCCY\",\"CYQU\",\"GMFF\",\"KSPI\",\"NGFU\",\"NTGI\",\"PAKV\",\"ULPB\",\"FACT\",\"ZUTC\",\"CYVR\",\"KTPA\",\"NTGW\",\"SYCJ\",\"EDDL\",\"HLMS\",\"MROC\",\"NVSE\",\"RJCK\",\"RJEB\",\"CYXJ\",\"KORS\",\"NVSO\",\"NZPM\",\"UESO\",\"VHHH\",\"VYDW\",\"ZSLQ\",\"BGMQ\",\"HTKJ\",\"LEDA\",\"ZGCJ\",\"EFLP\",\"LOWG\",\"RKJB\",\"SCAR\",\"SVBM\",\"VYBG\",\"YMHU\",\"LBWN\",\"NTGB\",\"OIKM\",\"UHMM\",\"WBKW\",\"CYVO\",\"CYYE\",\"CYZS\",\"ESNN\",\"GMME\",\"VTSE\",\"WADD\",\"CYLK\",\"EGHI\",\"GVBA\",\"KILM\",\"LTCD\",\"CYPH\",\"ETNL\",\"KEWR\",\"KSKX\",\"LHBP\",\"PATE\",\"SBUA\",\"SCTE\",\"SKCL\",\"SLTJ\",\"YBTL\",\"KATW\",\"OPFA\",\"SBML\",\"WADS\",\"CYXL\",\"OEGS\",\"HLLB\",\"KONT\",\"KTXK\",\"LPPI\",\"SKTL\",\"UWSG\",\"VABV\",\"OIBA\",\"RJOB\",\"ENAL\",\"KBIL\",\"KMBS\",\"LTAT\",\"OIBK\",\"SKPI\",\"YBWP\",\"ZLDH\",\"ZPLX\",\"ZULZ\",\"GMTT\",\"KFHR\",\"KSWF\",\"MMPB\",\"USDD\",\"VTCT\",\"CYKD\",\"CYYH\",\"EGSS\",\"NZWK\",\"SPST\",\"YWOL\",\"LTBS\",\"MMMA\",\"NZWU\",\"YPXM\",\"OISJ\",\"WMKI\",\"YGLA\",\"YPKG\",\"ZSWF\",\"ZWAK\",\"CYUY\",\"ENTC\",\"FZIC\",\"KPMD\",\"KPQI\",\"NVSG\",\"ZSYT\",\"PASM\",\"RPMG\",\"SNVS\",\"VIKA\",\"VLXK\",\"YMER\",\"EKVG\",\"GCGM\",\"KGPI\",\"KPHF\",\"KAEX\",\"KILG\",\"LROD\",\"NZWN\",\"PAUN\",\"RJNW\",\"SBCP\",\"UKBB\",\"YNTN\",\"BIAR\",\"GQNN\",\"KCYS\",\"PTRO\",\"RKNY\",\"TJVQ\",\"EPPO\",\"KEAT\",\"KSAW\",\"MMOX\",\"MWCL\",\"RJSY\",\"SPJL\",\"VYYY\",\"ZWKM\",\"GMFO\",\"ULAM\",\"VGHS\",\"KCNM\",\"NGTB\",\"NTKA\",\"NZQN\",\"RPVK\",\"VTBO\",\"WADB\",\"ZUNP\",\"CYZV\",\"DNIB\",\"LEIB\",\"OIMN\",\"PAOO\",\"RJCO\",\"BIHN\",\"KALB\",\"LFLC\",\"NTTM\",\"OIAA\",\"SEGU\",\"WADT\",\"AYGR\",\"KPAH\",\"NSFA\",\"OEGT\",\"YBHI\",\"ZGKL\",\"DFOO\",\"DISP\",\"EGSC\",\"EIKY\",\"ESNO\",\"FLMA\",\"LFBE\",\"NGMN\",\"OMSJ\",\"RJFU\",\"ENSH\",\"OEWD\",\"RKPC\",\"SBBG\",\"UNTT\",\"ZHYC\",\"ZUBD\",\"ZYJX\",\"DNIM\",\"FQNP\",\"LEZG\",\"LTAS\",\"NZHN\",\"RPLL\",\"SBNM\",\"SKSM\",\"DNIL\",\"EDDG\",\"KECP\",\"MYEF\",\"NGTU\",\"NTTP\",\"YMGB\",\"PGUM\",\"RKTN\",\"SKPS\",\"UWKD\",\"VYPT\",\"WMKA\",\"EFHK\",\"FAUT\",\"KDHN\",\"LELN\",\"LOWL\",\"CYCG\",\"FQBR\",\"HALA\",\"UACK\",\"MUVR\",\"NVSD\",\"ESKN\",\"KGRI\",\"KMCC\",\"LSZR\",\"LTBH\",\"OBBI\",\"ZGHY\",\"ZUQJ\",\"OOKB\",\"OPTU\",\"RJSA\",\"SLRQ\",\"ULWC\",\"YCWA\",\"KSYR\",\"LTBJ\",\"MMLC\",\"MRLB\",\"SAWH\",\"FQNC\",\"KCPR\",\"LICA\",\"NTGO\",\"SBUG\",\"UACC\",\"UIUU\",\"EDDM\",\"KHPN\",\"KMOT\",\"LPFR\",\"SBRF\",\"UERL\",\"WALL\",\"YANG\",\"YMAA\",\"ZSFY\",\"KBUR\",\"NVSM\",\"USPP\",\"VEKU\",\"YPMQ\",\"YWLG\",\"FKYS\",\"HAAM\",\"HASO\",\"LFCR\",\"LPPR\",\"NCRG\",\"SAZY\",\"SBRJ\",\"SWKO\",\"UAKD\",\"VILH\",\"YDNI\",\"NZHK\",\"UENS\",\"UHNB\",\"ZYTL\",\"KESC\",\"KJST\",\"KLBE\",\"MMRX\",\"RPVA\",\"SCFA\",\"UIKB\",\"UUOO\",\"UWOO\",\"VTPO\",\"ZLGY\",\"EPLL\",\"KLBL\",\"KRHI\",\"MMSP\",\"MTPP\",\"PAPO\",\"ULKK\",\"ENOL\",\"KAUG\",\"KERI\",\"TRPG\",\"VTUW\",\"MMPA\",\"PFKT\",\"YMHB\",\"ESMS\",\"SVCU\",\"TKPN\",\"VEJT\",\"AGGU\",\"CYFA\",\"ENDU\",\"KHEF\",\"KRDU\",\"LOWI\",\"OICI\",\"UWGG\",\"UWWW\",\"VIGG\",\"CYKG\",\"KBRO\",\"RJSC\",\"WMKC\",\"OIAW\",\"SCDA\",\"UHBW\",\"KMAF\",\"LGKA\",\"LTAJ\",\"MMLO\",\"VLPS\",\"VVCS\",\"YEML\",\"CYBR\",\"EGGW\",\"FLLI\",\"FMCZ\",\"LEMH\",\"LGKR\",\"PAJN\",\"FMCV\",\"KGCK\",\"LGSA\",\"NVSX\",\"OOMX\",\"UBBL\",\"UKDD\",\"ZSDY\",\"AYBK\",\"EPZG\",\"KINL\",\"KSLK\",\"KTVF\",\"LGSR\",\"SPZO\",\"VTUD\",\"CYIF\",\"KEVV\",\"KPBG\",\"LICC\",\"OITT\",\"PADK\",\"SKRG\",\"AGGH\",\"MMSD\",\"MUNG\",\"RPMC\",\"SBCX\",\"USHB\",\"YCOE\",\"EPRZ\",\"KCLT\",\"RPMS\",\"UESU\",\"CTB6\",\"KFAR\",\"KMSS\",\"KSBP\",\"RPMZ\",\"TBPB\",\"VNJP\",\"GVAC\",\"KCAE\",\"KPUW\",\"LFJL\",\"RJBD\",\"SBCN\",\"VEIM\",\"VTUK\",\"ZLYL\",\"CYGH\",\"CYZG\",\"FOOL\",\"KADS\",\"MMCV\",\"VTUU\",\"KMCE\",\"LGTS\",\"OMDW\",\"PFKO\",\"YFLI\",\"LICJ\",\"NGTA\",\"OAKB\",\"ENSG\",\"ESSV\",\"KCWA\",\"OJAI\",\"SBMA\",\"YORG\",\"KTYS\",\"PAGY\",\"SBBW\",\"UTNN\",\"VOBZ\",\"YBCG\",\"ZSCG\",\"ZUMY\",\"BIKF\",\"CYMO\",\"KHTS\",\"KPSM\",\"OPIS\",\"WATG\",\"DNMM\",\"FNMO\",\"HTSO\",\"LATI\",\"OIKJ\",\"SCAT\",\"WSSL\",\"YBBN\",\"DNKA\",\"ENBR\",\"KHYA\",\"NFNK\",\"SKSP\",\"ZBXH\",\"FASS\",\"VVCT\",\"WAOP\",\"WAWW\",\"ZSJU\",\"DABC\",\"KFSD\",\"SAWC\",\"WASO\",\"FQQL\",\"HASM\",\"SCIE\",\"UEEE\",\"YQLP\",\"KDUJ\",\"KTLH\",\"LTCO\",\"SBAR\",\"UWKE\",\"CYKO\",\"EGPI\",\"GGOV\",\"KTTN\",\"LIRP\",\"LXGB\",\"SBFL\",\"ZPDL\",\"CYAM\",\"CYGV\",\"MHRO\",\"NGMK\",\"ZBAD\",\"GQPP\",\"YPKS\",\"CYDA\",\"MMPR\",\"ORBI\",\"RKSS\",\"UHMP\",\"UHSO\",\"WIPL\",\"YCAR\",\"ETUR\",\"HSFS\",\"KGSO\",\"UWKB\",\"YSTW\",\"EGYP\",\"FABL\",\"LFLB\",\"OERK\",\"RCMT\",\"SBCA\",\"SETM\",\"ZMBH\",\"ZSLG\",\"KMDW\",\"KXNA\",\"SASA\",\"UCFM\",\"ENSK\",\"KMMU\",\"KPGV\",\"RJGG\",\"SBSV\",\"VDSV\",\"EINN\",\"ESTA\",\"KCEC\",\"LGZA\",\"NZTU\",\"PTYA\",\"RJER\",\"UTNU\",\"VOMM\",\"ZUNZ\",\"DNAA\",\"EPGD\",\"OODQ\",\"ZLLL\",\"BKPR\",\"CYOW\",\"DAAG\",\"KHOU\",\"MUMZ\",\"PAHP\",\"SLPO\",\"RPLC\",\"UTSB\",\"VGLM\",\"WARJ\",\"LSZH\",\"NVVW\",\"OAHR\",\"RKPK\",\"VTSR\",\"CYRB\",\"LFMK\",\"LICD\",\"LIPH\",\"LTAN\",\"NGUK\",\"SKUC\",\"UNBG\",\"KMSN\",\"SBTE\",\"VEGT\",\"WBGK\",\"EGPL\",\"KPLN\",\"MMMM\",\"ZLQY\",\"EGPE\",\"FVFA\",\"HKNW\",\"PFKK\",\"RPUO\",\"WAWJ\",\"AGGF\",\"CZFN\",\"EIDL\",\"EYVI\",\"GBYD\",\"HAMK\",\"UIAA\",\"ZBYN\",\"HEBA\",\"MTJE\",\"OPGD\",\"PAGA\",\"SARC\",\"SBSG\",\"AYMO\",\"EDLV\",\"HCMH\",\"KBNA\",\"LTBZ\",\"LTFC\",\"OEJN\",\"UHSM\",\"UKON\",\"VEBD\",\"YPKA\",\"BGAA\",\"BIRK\",\"CYMH\",\"HDAM\",\"KMEI\",\"KOMA\",\"ZHSS\",\"ZSLY\",\"LCLK\",\"PAKW\",\"RJOC\",\"UACP\",\"UTAA\",\"UUOT\",\"AYIQ\",\"CYTS\",\"GMML\",\"LGSK\",\"NTKH\",\"VVPC\",\"YPAM\",\"EDDH\",\"KROW\",\"MMCZ\",\"PAPG\",\"RJTT\",\"VTSM\",\"GECE\",\"KLWS\",\"KMKE\",\"LBBG\",\"LIBR\",\"LTBQ\",\"NFFA\",\"OIZB\",\"PHHN\",\"YPBO\",\"ZPBS\",\"ZYLD\",\"ENSR\",\"KRDD\",\"LGKV\",\"NWWW\",\"WIMB\",\"ZGLG\",\"CYWK\",\"ESST\",\"LFBH\",\"MYNN\",\"ZSYN\",\"AGGB\",\"BGSS\",\"EKKA\",\"LEMG\",\"OIMB\",\"UADD\",\"UHOO\",\"YHLC\",\"CYQZ\",\"KEGE\",\"KHVR\",\"VTCN\",\"WBGG\",\"NZTG\",\"UTTT\",\"ZULS\",\"CYHO\",\"FAPM\",\"GOGS\",\"KSDM\",\"LFBT\",\"LWOH\",\"SANE\",\"UUBP\",\"YBRY\",\"YSCB\",\"EGPO\",\"NZDN\",\"RJFF\",\"TUPJ\",\"VCCW\",\"YBMA\",\"CYLC\",\"CYQQ\",\"FBFT\",\"KSDF\",\"LFMP\",\"LTAL\",\"NTGY\",\"RJFO\",\"VYME\",\"DAUA\",\"FMMV\",\"GABS\",\"KLAX\",\"KLSE\",\"KSOW\",\"ZLJC\",\"LDSP\",\"LFST\",\"LKPR\",\"RPVJ\",\"WABI\",\"YMRB\",\"AGGN\",\"LFGJ\",\"MGPB\",\"VORY\",\"WMKP\",\"CYCO\",\"ESPA\",\"KPRC\",\"TNCS\",\"CYAY\",\"EKBI\",\"KBVU\",\"KISP\",\"KSTS\",\"LFLW\",\"LFPO\",\"NGTO\",\"CYXX\",\"DNAI\",\"KCVG\",\"SKSA\",\"SPJC\",\"WAOK\",\"CYGR\",\"ENCN\",\"ENRO\",\"LGAV\",\"WAMG\",\"AYGA\",\"CYTQ\",\"GMMN\",\"CYHH\",\"DAAY\",\"KLRD\",\"LIPZ\",\"RJSF\",\"RPUH\",\"SARF\",\"ZLJN\",\"KHYS\",\"RPVV\",\"VVRG\",\"WATA\",\"YMRY\",\"FALD\",\"RPVP\",\"SKPV\",\"VGEG\",\"ZJSY\",\"CEM3\",\"DAOR\",\"LFRH\",\"OEGN\",\"OPST\",\"RCQC\",\"SVRS\",\"TJCP\",\"UWOR\",\"DTTG\",\"KCEZ\",\"KMCO\",\"LFPB\",\"MMQT\",\"OAMS\",\"SAMR\",\"SCVD\",\"SLOR\",\"FMMS\",\"FWKI\",\"KABY\",\"KGGW\",\"VRMM\",\"AYMR\",\"DAAJ\",\"FXMM\",\"KGFK\",\"KSBA\",\"MPBO\",\"OIKK\",\"PATJ\",\"SBPS\",\"UIBS\",\"UUBI\",\"YKII\",\"LTAF\",\"NTGV\",\"SAVV\",\"WAML\",\"YLTN\",\"FCPP\",\"KIAD\",\"MPMG\",\"PABT\",\"UTSA\",\"VAOZ\",\"HAJM\",\"KGEG\",\"LGKS\",\"SNTF\",\"SUMU\",\"UATT\",\"ULAL\",\"YKAL\",\"ZGSD\",\"EFRO\",\"LROP\",\"LTAZ\",\"NFFN\",\"NFNO\",\"SANU\",\"YBAU\",\"CYTZ\",\"DTMB\",\"EFMA\",\"EFTP\",\"ENHF\",\"FNCA\",\"FNLU\",\"KOLF\",\"KRKD\",\"LFHP\",\"MDPC\",\"NFNM\",\"DAUZ\",\"KHXD\",\"KICT\",\"LGST\",\"OINN\",\"PAMO\",\"SKEJ\",\"SVVA\",\"USNN\",\"WATL\",\"ZSJH\",\"ZYTX\",\"CTU5\",\"DAOO\",\"FNDU\",\"KLCK\",\"KVQQ\",\"NFCI\",\"NFTV\",\"UBBB\",\"WAQQ\",\"DNSO\",\"HE24\",\"KLFT\",\"MMNL\",\"PAKT\",\"UKHH\",\"WBKD\",\"YGDW\",\"LDOS\",\"ENML\",\"LIMZ\",\"MMLM\",\"PACK\",\"RJSI\",\"YMEK\",\"EGTE\",\"KFTY\",\"KGCC\",\"KVCT\",\"NZNV\",\"SBAT\",\"SBZM\",\"ZMKD\",\"CYQL\",\"CYYR\",\"KMLI\",\"KSHV\",\"LGIO\",\"VVPQ\",\"WATC\",\"KOWD\",\"LGPZ\",\"ZUYI\",\"DAUO\",\"EDFM\",\"YMAY\",\"YYKI\",\"KEAR\",\"KTWF\",\"MMAA\",\"SAAP\",\"UAKK\",\"YBSU\",\"AYMH\",\"CYQT\",\"EICK\",\"KDEN\",\"LEPP\",\"LEST\",\"RJCH\",\"VERC\",\"KCMH\",\"KMSL\",\"KPIA\",\"UHWP\",\"CYBK\",\"CYXN\",\"LIRN\",\"PABR\",\"PAGL\",\"SAWG\",\"YPTN\",\"LFTH\",\"LECO\",\"URMS\",\"ZUJZ\",\"CYSK\",\"ENRM\",\"MPDA\",\"RKSI\",\"TLPC\",\"UTDL\"]}\n"
     ]
    }
   ],
   "source": [
    "# this is about brought from https://rapidapi.com/aedbx-aedbx/api/aerodatabox to fetch necessary data according to what we want to work with\n",
    "# instead of json() we first used text for practice\n",
    "\n",
    "import requests\n",
    "\n",
    "url = \"https://aerodatabox.p.rapidapi.com/health/services/feeds/FlightSchedules/airports\"\n",
    "\n",
    "headers = {\n",
    "    'x-rapidapi-host': \"aerodatabox.p.rapidapi.com\",\n",
    "    'x-rapidapi-key': \"9613ca6ca5msh62659872159916fp1a0a2cjsndd9a3e6ff324\"\n",
    "    }\n",
    "\n",
    "response = requests.get(url, headers=headers)\n",
    "\n",
    "print(response.text)"
   ]
  },
  {
   "cell_type": "code",
   "execution_count": 19,
   "metadata": {
    "colab": {
     "base_uri": "https://localhost:8080/"
    },
    "executionInfo": {
     "elapsed": 884,
     "status": "ok",
     "timestamp": 1694524269662,
     "user": {
      "displayName": "Felipe Rocha",
      "userId": "13209801955446981393"
     },
     "user_tz": -60
    },
    "id": "IH04aIjyg5_9",
    "outputId": "a7408137-3114-4a63-8882-3d2ee7c0cf4e",
    "scrolled": true
   },
   "outputs": [
    {
     "data": {
      "text/plain": [
       "{'searchBy': 'lisbon',\n",
       " 'count': 1,\n",
       " 'items': [{'icao': 'LPPT',\n",
       "   'iata': 'LIS',\n",
       "   'name': 'Lisbon Portela',\n",
       "   'shortName': 'Portela',\n",
       "   'municipalityName': 'Lisbon',\n",
       "   'location': {'lat': 38.7813, 'lon': -9.135919},\n",
       "   'countryCode': 'PT'}]}"
      ]
     },
     "execution_count": 19,
     "metadata": {},
     "output_type": "execute_result"
    }
   ],
   "source": [
    "# use different API \"Search airports by free text\" to get airport name by input text \n",
    "\n",
    "url = \"https://aerodatabox.p.rapidapi.com/airports/search/term\"\n",
    "\n",
    "querystring = {\"q\":\"lisbon\",\"limit\":\"1\"}\n",
    "\n",
    "headers = {\n",
    "    'x-rapidapi-host': \"aerodatabox.p.rapidapi.com\",\n",
    "    'x-rapidapi-key': \"9613ca6ca5msh62659872159916fp1a0a2cjsndd9a3e6ff324\"\n",
    "    }\n",
    "\n",
    "response = requests.get(url, headers=headers, params=querystring)\n",
    "response.json()"
   ]
  },
  {
   "cell_type": "markdown",
   "metadata": {
    "id": "BVrGaNRng5_9"
   },
   "source": [
    "### Working with JSON"
   ]
  },
  {
   "cell_type": "code",
   "execution_count": 11,
   "metadata": {
    "colab": {
     "base_uri": "https://localhost:8080/",
     "height": 81
    },
    "executionInfo": {
     "elapsed": 473,
     "status": "ok",
     "timestamp": 1694524270134,
     "user": {
      "displayName": "Felipe Rocha",
      "userId": "13209801955446981393"
     },
     "user_tz": -60
    },
    "id": "KWvh3RPTg5_-",
    "outputId": "e805bb6f-d033-43c5-ed64-0d97576c5c09"
   },
   "outputs": [
    {
     "data": {
      "text/html": [
       "<div>\n",
       "<style scoped>\n",
       "    .dataframe tbody tr th:only-of-type {\n",
       "        vertical-align: middle;\n",
       "    }\n",
       "\n",
       "    .dataframe tbody tr th {\n",
       "        vertical-align: top;\n",
       "    }\n",
       "\n",
       "    .dataframe thead th {\n",
       "        text-align: right;\n",
       "    }\n",
       "</style>\n",
       "<table border=\"1\" class=\"dataframe\">\n",
       "  <thead>\n",
       "    <tr style=\"text-align: right;\">\n",
       "      <th></th>\n",
       "      <th>first_key.inner_first_key</th>\n",
       "      <th>first_key.inner_second_key</th>\n",
       "      <th>second_key.inner_first_key</th>\n",
       "      <th>second_key.inner_second_key</th>\n",
       "    </tr>\n",
       "  </thead>\n",
       "  <tbody>\n",
       "    <tr>\n",
       "      <th>0</th>\n",
       "      <td>1</td>\n",
       "      <td>2</td>\n",
       "      <td>1</td>\n",
       "      <td>2</td>\n",
       "    </tr>\n",
       "  </tbody>\n",
       "</table>\n",
       "</div>"
      ],
      "text/plain": [
       "   first_key.inner_first_key  first_key.inner_second_key  \\\n",
       "0                          1                           2   \n",
       "\n",
       "   second_key.inner_first_key  second_key.inner_second_key  \n",
       "0                           1                            2  "
      ]
     },
     "execution_count": 11,
     "metadata": {},
     "output_type": "execute_result"
    }
   ],
   "source": [
    "# to elaborate how Json() works\n",
    "# json_1 is dictionary  which is quite similar with json type\n",
    "import pandas as pd\n",
    "\n",
    "json_1 = {'first_key': {'inner_first_key': 1, 'inner_second_key': 2},\n",
    "         'second_key': {'inner_first_key': 1, 'inner_second_key': 2}}\n",
    "\n",
    "pd.json_normalize(json_1)"
   ]
  },
  {
   "cell_type": "code",
   "execution_count": 15,
   "metadata": {
    "colab": {
     "base_uri": "https://localhost:8080/",
     "height": 81
    },
    "executionInfo": {
     "elapsed": 13,
     "status": "ok",
     "timestamp": 1694524270136,
     "user": {
      "displayName": "Felipe Rocha",
      "userId": "13209801955446981393"
     },
     "user_tz": -60
    },
    "id": "wY0kgTxug5_-",
    "outputId": "8a4f1a22-3848-4572-ef3f-a87dbc8dc36a"
   },
   "outputs": [
    {
     "data": {
      "text/html": [
       "<div>\n",
       "<style scoped>\n",
       "    .dataframe tbody tr th:only-of-type {\n",
       "        vertical-align: middle;\n",
       "    }\n",
       "\n",
       "    .dataframe tbody tr th {\n",
       "        vertical-align: top;\n",
       "    }\n",
       "\n",
       "    .dataframe thead th {\n",
       "        text-align: right;\n",
       "    }\n",
       "</style>\n",
       "<table border=\"1\" class=\"dataframe\">\n",
       "  <thead>\n",
       "    <tr style=\"text-align: right;\">\n",
       "      <th></th>\n",
       "      <th>0</th>\n",
       "    </tr>\n",
       "  </thead>\n",
       "  <tbody>\n",
       "    <tr>\n",
       "      <th>first_key_inner_first_key</th>\n",
       "      <td>1</td>\n",
       "    </tr>\n",
       "    <tr>\n",
       "      <th>first_key_inner_second_key</th>\n",
       "      <td>2</td>\n",
       "    </tr>\n",
       "    <tr>\n",
       "      <th>second_key_inner_first_key</th>\n",
       "      <td>1</td>\n",
       "    </tr>\n",
       "    <tr>\n",
       "      <th>second_key_inner_second_key</th>\n",
       "      <td>2</td>\n",
       "    </tr>\n",
       "  </tbody>\n",
       "</table>\n",
       "</div>"
      ],
      "text/plain": [
       "                             0\n",
       "first_key_inner_first_key    1\n",
       "first_key_inner_second_key   2\n",
       "second_key_inner_first_key   1\n",
       "second_key_inner_second_key  2"
      ]
     },
     "execution_count": 15,
     "metadata": {},
     "output_type": "execute_result"
    }
   ],
   "source": [
    "# using transpose or not\n",
    "dct = {'first_key_inner_first_key': 1, 'first_key_inner_second_key': 2, 'second_key_inner_first_key': 1, 'second_key_inner_second_key': 2}\n",
    "\n",
    "pd.DataFrame.from_dict(dct, orient='index')#.T"
   ]
  },
  {
   "cell_type": "code",
   "execution_count": 24,
   "metadata": {
    "colab": {
     "base_uri": "https://localhost:8080/"
    },
    "executionInfo": {
     "elapsed": 12,
     "status": "ok",
     "timestamp": 1694524270136,
     "user": {
      "displayName": "Felipe Rocha",
      "userId": "13209801955446981393"
     },
     "user_tz": -60
    },
    "id": "H9T24vR_g5__",
    "outputId": "d313094e-3786-4b50-d9b8-0630b2a547d7"
   },
   "outputs": [
    {
     "data": {
      "text/plain": [
       "dict"
      ]
     },
     "execution_count": 24,
     "metadata": {},
     "output_type": "execute_result"
    }
   ],
   "source": [
    "import pandas as pd\n",
    "\n",
    "# Normalize the response\n",
    "# important type(r_json) will be dictionary\n",
    "# important type(r_json['items']) is is list\n",
    "\n",
    "r_json = response.json()\n",
    "r_json['items']\n"
   ]
  },
  {
   "cell_type": "code",
   "execution_count": 6,
   "metadata": {
    "colab": {
     "base_uri": "https://localhost:8080/",
     "height": 81
    },
    "executionInfo": {
     "elapsed": 11,
     "status": "ok",
     "timestamp": 1694524270136,
     "user": {
      "displayName": "Felipe Rocha",
      "userId": "13209801955446981393"
     },
     "user_tz": -60
    },
    "id": "0XP3J01mg5__",
    "outputId": "3c09330f-1a37-4b1c-af59-c99ceab8467a"
   },
   "outputs": [
    {
     "data": {
      "text/html": [
       "\n",
       "  <div id=\"df-fcc45dc8-7eef-479e-a766-30f0347e6544\" class=\"colab-df-container\">\n",
       "    <div>\n",
       "<style scoped>\n",
       "    .dataframe tbody tr th:only-of-type {\n",
       "        vertical-align: middle;\n",
       "    }\n",
       "\n",
       "    .dataframe tbody tr th {\n",
       "        vertical-align: top;\n",
       "    }\n",
       "\n",
       "    .dataframe thead th {\n",
       "        text-align: right;\n",
       "    }\n",
       "</style>\n",
       "<table border=\"1\" class=\"dataframe\">\n",
       "  <thead>\n",
       "    <tr style=\"text-align: right;\">\n",
       "      <th></th>\n",
       "      <th>searchBy</th>\n",
       "      <th>count</th>\n",
       "      <th>items</th>\n",
       "    </tr>\n",
       "  </thead>\n",
       "  <tbody>\n",
       "    <tr>\n",
       "      <th>0</th>\n",
       "      <td>lisbon</td>\n",
       "      <td>1</td>\n",
       "      <td>[{'icao': 'LPPT', 'iata': 'LIS', 'name': 'Lisb...</td>\n",
       "    </tr>\n",
       "  </tbody>\n",
       "</table>\n",
       "</div>\n",
       "    <div class=\"colab-df-buttons\">\n",
       "\n",
       "  <div class=\"colab-df-container\">\n",
       "    <button class=\"colab-df-convert\" onclick=\"convertToInteractive('df-fcc45dc8-7eef-479e-a766-30f0347e6544')\"\n",
       "            title=\"Convert this dataframe to an interactive table.\"\n",
       "            style=\"display:none;\">\n",
       "\n",
       "  <svg xmlns=\"http://www.w3.org/2000/svg\" height=\"24px\" viewBox=\"0 -960 960 960\">\n",
       "    <path d=\"M120-120v-720h720v720H120Zm60-500h600v-160H180v160Zm220 220h160v-160H400v160Zm0 220h160v-160H400v160ZM180-400h160v-160H180v160Zm440 0h160v-160H620v160ZM180-180h160v-160H180v160Zm440 0h160v-160H620v160Z\"/>\n",
       "  </svg>\n",
       "    </button>\n",
       "\n",
       "  <style>\n",
       "    .colab-df-container {\n",
       "      display:flex;\n",
       "      gap: 12px;\n",
       "    }\n",
       "\n",
       "    .colab-df-convert {\n",
       "      background-color: #E8F0FE;\n",
       "      border: none;\n",
       "      border-radius: 50%;\n",
       "      cursor: pointer;\n",
       "      display: none;\n",
       "      fill: #1967D2;\n",
       "      height: 32px;\n",
       "      padding: 0 0 0 0;\n",
       "      width: 32px;\n",
       "    }\n",
       "\n",
       "    .colab-df-convert:hover {\n",
       "      background-color: #E2EBFA;\n",
       "      box-shadow: 0px 1px 2px rgba(60, 64, 67, 0.3), 0px 1px 3px 1px rgba(60, 64, 67, 0.15);\n",
       "      fill: #174EA6;\n",
       "    }\n",
       "\n",
       "    .colab-df-buttons div {\n",
       "      margin-bottom: 4px;\n",
       "    }\n",
       "\n",
       "    [theme=dark] .colab-df-convert {\n",
       "      background-color: #3B4455;\n",
       "      fill: #D2E3FC;\n",
       "    }\n",
       "\n",
       "    [theme=dark] .colab-df-convert:hover {\n",
       "      background-color: #434B5C;\n",
       "      box-shadow: 0px 1px 3px 1px rgba(0, 0, 0, 0.15);\n",
       "      filter: drop-shadow(0px 1px 2px rgba(0, 0, 0, 0.3));\n",
       "      fill: #FFFFFF;\n",
       "    }\n",
       "  </style>\n",
       "\n",
       "    <script>\n",
       "      const buttonEl =\n",
       "        document.querySelector('#df-fcc45dc8-7eef-479e-a766-30f0347e6544 button.colab-df-convert');\n",
       "      buttonEl.style.display =\n",
       "        google.colab.kernel.accessAllowed ? 'block' : 'none';\n",
       "\n",
       "      async function convertToInteractive(key) {\n",
       "        const element = document.querySelector('#df-fcc45dc8-7eef-479e-a766-30f0347e6544');\n",
       "        const dataTable =\n",
       "          await google.colab.kernel.invokeFunction('convertToInteractive',\n",
       "                                                    [key], {});\n",
       "        if (!dataTable) return;\n",
       "\n",
       "        const docLinkHtml = 'Like what you see? Visit the ' +\n",
       "          '<a target=\"_blank\" href=https://colab.research.google.com/notebooks/data_table.ipynb>data table notebook</a>'\n",
       "          + ' to learn more about interactive tables.';\n",
       "        element.innerHTML = '';\n",
       "        dataTable['output_type'] = 'display_data';\n",
       "        await google.colab.output.renderOutput(dataTable, element);\n",
       "        const docLink = document.createElement('div');\n",
       "        docLink.innerHTML = docLinkHtml;\n",
       "        element.appendChild(docLink);\n",
       "      }\n",
       "    </script>\n",
       "  </div>\n",
       "\n",
       "    </div>\n",
       "  </div>\n"
      ],
      "text/plain": [
       "  searchBy  count                                              items\n",
       "0   lisbon      1  [{'icao': 'LPPT', 'iata': 'LIS', 'name': 'Lisb..."
      ]
     },
     "execution_count": 6,
     "metadata": {},
     "output_type": "execute_result"
    }
   ],
   "source": [
    "# because json is dictionary having searchBy and count, all the items are in item column. so we need to normalize item column only. \n",
    "\n",
    "\n",
    "df_json = pd.json_normalize(r_json)\n",
    "df_json  # not good"
   ]
  },
  {
   "cell_type": "code",
   "execution_count": 7,
   "metadata": {
    "colab": {
     "base_uri": "https://localhost:8080/",
     "height": 81
    },
    "executionInfo": {
     "elapsed": 11,
     "status": "ok",
     "timestamp": 1694524270137,
     "user": {
      "displayName": "Felipe Rocha",
      "userId": "13209801955446981393"
     },
     "user_tz": -60
    },
    "id": "oAHE4i8hg6AA",
    "outputId": "0ef20f73-3003-4f67-dd13-5d0ac50c6336"
   },
   "outputs": [
    {
     "data": {
      "text/html": [
       "\n",
       "  <div id=\"df-93f37e40-a818-43ff-80a3-af62d833a3e3\" class=\"colab-df-container\">\n",
       "    <div>\n",
       "<style scoped>\n",
       "    .dataframe tbody tr th:only-of-type {\n",
       "        vertical-align: middle;\n",
       "    }\n",
       "\n",
       "    .dataframe tbody tr th {\n",
       "        vertical-align: top;\n",
       "    }\n",
       "\n",
       "    .dataframe thead th {\n",
       "        text-align: right;\n",
       "    }\n",
       "</style>\n",
       "<table border=\"1\" class=\"dataframe\">\n",
       "  <thead>\n",
       "    <tr style=\"text-align: right;\">\n",
       "      <th></th>\n",
       "      <th>icao</th>\n",
       "      <th>iata</th>\n",
       "      <th>name</th>\n",
       "      <th>shortName</th>\n",
       "      <th>municipalityName</th>\n",
       "      <th>countryCode</th>\n",
       "      <th>location.lat</th>\n",
       "      <th>location.lon</th>\n",
       "    </tr>\n",
       "  </thead>\n",
       "  <tbody>\n",
       "    <tr>\n",
       "      <th>0</th>\n",
       "      <td>LPPT</td>\n",
       "      <td>LIS</td>\n",
       "      <td>Lisbon Portela</td>\n",
       "      <td>Portela</td>\n",
       "      <td>Lisbon</td>\n",
       "      <td>PT</td>\n",
       "      <td>38.7813</td>\n",
       "      <td>-9.135919</td>\n",
       "    </tr>\n",
       "  </tbody>\n",
       "</table>\n",
       "</div>\n",
       "    <div class=\"colab-df-buttons\">\n",
       "\n",
       "  <div class=\"colab-df-container\">\n",
       "    <button class=\"colab-df-convert\" onclick=\"convertToInteractive('df-93f37e40-a818-43ff-80a3-af62d833a3e3')\"\n",
       "            title=\"Convert this dataframe to an interactive table.\"\n",
       "            style=\"display:none;\">\n",
       "\n",
       "  <svg xmlns=\"http://www.w3.org/2000/svg\" height=\"24px\" viewBox=\"0 -960 960 960\">\n",
       "    <path d=\"M120-120v-720h720v720H120Zm60-500h600v-160H180v160Zm220 220h160v-160H400v160Zm0 220h160v-160H400v160ZM180-400h160v-160H180v160Zm440 0h160v-160H620v160ZM180-180h160v-160H180v160Zm440 0h160v-160H620v160Z\"/>\n",
       "  </svg>\n",
       "    </button>\n",
       "\n",
       "  <style>\n",
       "    .colab-df-container {\n",
       "      display:flex;\n",
       "      gap: 12px;\n",
       "    }\n",
       "\n",
       "    .colab-df-convert {\n",
       "      background-color: #E8F0FE;\n",
       "      border: none;\n",
       "      border-radius: 50%;\n",
       "      cursor: pointer;\n",
       "      display: none;\n",
       "      fill: #1967D2;\n",
       "      height: 32px;\n",
       "      padding: 0 0 0 0;\n",
       "      width: 32px;\n",
       "    }\n",
       "\n",
       "    .colab-df-convert:hover {\n",
       "      background-color: #E2EBFA;\n",
       "      box-shadow: 0px 1px 2px rgba(60, 64, 67, 0.3), 0px 1px 3px 1px rgba(60, 64, 67, 0.15);\n",
       "      fill: #174EA6;\n",
       "    }\n",
       "\n",
       "    .colab-df-buttons div {\n",
       "      margin-bottom: 4px;\n",
       "    }\n",
       "\n",
       "    [theme=dark] .colab-df-convert {\n",
       "      background-color: #3B4455;\n",
       "      fill: #D2E3FC;\n",
       "    }\n",
       "\n",
       "    [theme=dark] .colab-df-convert:hover {\n",
       "      background-color: #434B5C;\n",
       "      box-shadow: 0px 1px 3px 1px rgba(0, 0, 0, 0.15);\n",
       "      filter: drop-shadow(0px 1px 2px rgba(0, 0, 0, 0.3));\n",
       "      fill: #FFFFFF;\n",
       "    }\n",
       "  </style>\n",
       "\n",
       "    <script>\n",
       "      const buttonEl =\n",
       "        document.querySelector('#df-93f37e40-a818-43ff-80a3-af62d833a3e3 button.colab-df-convert');\n",
       "      buttonEl.style.display =\n",
       "        google.colab.kernel.accessAllowed ? 'block' : 'none';\n",
       "\n",
       "      async function convertToInteractive(key) {\n",
       "        const element = document.querySelector('#df-93f37e40-a818-43ff-80a3-af62d833a3e3');\n",
       "        const dataTable =\n",
       "          await google.colab.kernel.invokeFunction('convertToInteractive',\n",
       "                                                    [key], {});\n",
       "        if (!dataTable) return;\n",
       "\n",
       "        const docLinkHtml = 'Like what you see? Visit the ' +\n",
       "          '<a target=\"_blank\" href=https://colab.research.google.com/notebooks/data_table.ipynb>data table notebook</a>'\n",
       "          + ' to learn more about interactive tables.';\n",
       "        element.innerHTML = '';\n",
       "        dataTable['output_type'] = 'display_data';\n",
       "        await google.colab.output.renderOutput(dataTable, element);\n",
       "        const docLink = document.createElement('div');\n",
       "        docLink.innerHTML = docLinkHtml;\n",
       "        element.appendChild(docLink);\n",
       "      }\n",
       "    </script>\n",
       "  </div>\n",
       "\n",
       "    </div>\n",
       "  </div>\n"
      ],
      "text/plain": [
       "   icao iata            name shortName municipalityName countryCode  \\\n",
       "0  LPPT  LIS  Lisbon Portela   Portela           Lisbon          PT   \n",
       "\n",
       "   location.lat  location.lon  \n",
       "0       38.7813     -9.135919  "
      ]
     },
     "execution_count": 7,
     "metadata": {},
     "output_type": "execute_result"
    }
   ],
   "source": [
    "# Therefore normalize only the r_json item colume \n",
    "pd.json_normalize(r_json['items'])"
   ]
  },
  {
   "cell_type": "code",
   "execution_count": 8,
   "metadata": {
    "colab": {
     "base_uri": "https://localhost:8080/"
    },
    "executionInfo": {
     "elapsed": 481,
     "status": "ok",
     "timestamp": 1694524270607,
     "user": {
      "displayName": "Felipe Rocha",
      "userId": "13209801955446981393"
     },
     "user_tz": -60
    },
    "id": "33NfEwI5g6AA",
    "outputId": "d762bac4-0dbd-4e92-ce3b-42d916755c82"
   },
   "outputs": [
    {
     "data": {
      "text/plain": [
       "{'searchBy': 'brasil',\n",
       " 'count': 2,\n",
       " 'items': [{'icao': 'SBBV',\n",
       "   'iata': 'BVB',\n",
       "   'name': 'Boa Vista Atlas Brasil Cantanhede',\n",
       "   'shortName': 'Atlas Brasil Cantanhede',\n",
       "   'municipalityName': 'Boa Vista',\n",
       "   'location': {'lat': 2.841388, 'lon': -60.692223},\n",
       "   'countryCode': 'BR'},\n",
       "  {'icao': 'MRFL',\n",
       "   'iata': 'FMG',\n",
       "   'name': 'Brasilito Flamingo',\n",
       "   'shortName': 'Flamingo',\n",
       "   'municipalityName': 'Brasilito',\n",
       "   'location': {'lat': 10.4186, 'lon': -85.7827},\n",
       "   'countryCode': 'CR'}]}"
      ]
     },
     "execution_count": 8,
     "metadata": {},
     "output_type": "execute_result"
    }
   ],
   "source": [
    "# try to fetch airports name by giving brasil parameter and maximum count 10. we got 2 results from the url\n",
    "\n",
    "querystring = {\"q\":\"brasil\",\"limit\":\"10\"}\n",
    "\n",
    "response = requests.request(\"GET\", url, headers=headers, params=querystring)\n",
    "items = response.json()\n",
    "items"
   ]
  },
  {
   "cell_type": "code",
   "execution_count": 9,
   "metadata": {
    "colab": {
     "base_uri": "https://localhost:8080/"
    },
    "executionInfo": {
     "elapsed": 6,
     "status": "ok",
     "timestamp": 1694524270607,
     "user": {
      "displayName": "Felipe Rocha",
      "userId": "13209801955446981393"
     },
     "user_tz": -60
    },
    "id": "TCr26xMtg6AB",
    "outputId": "9635b7fd-d258-428d-e110-25908159cd42"
   },
   "outputs": [
    {
     "data": {
      "text/plain": [
       "{'icao': 'SBBV',\n",
       " 'iata': 'BVB',\n",
       " 'name': 'Boa Vista Atlas Brasil Cantanhede',\n",
       " 'shortName': 'Atlas Brasil Cantanhede',\n",
       " 'municipalityName': 'Boa Vista',\n",
       " 'location': {'lat': 2.841388, 'lon': -60.692223},\n",
       " 'countryCode': 'BR'}"
      ]
     },
     "execution_count": 9,
     "metadata": {},
     "output_type": "execute_result"
    }
   ],
   "source": [
    "items['items'][0]"
   ]
  },
  {
   "cell_type": "code",
   "execution_count": 10,
   "metadata": {
    "colab": {
     "base_uri": "https://localhost:8080/",
     "height": 112
    },
    "executionInfo": {
     "elapsed": 5,
     "status": "ok",
     "timestamp": 1694524270608,
     "user": {
      "displayName": "Felipe Rocha",
      "userId": "13209801955446981393"
     },
     "user_tz": -60
    },
    "id": "fXepiDEbg6AB",
    "outputId": "15decda5-b818-4452-d68c-dc7f408ea707"
   },
   "outputs": [
    {
     "data": {
      "text/html": [
       "\n",
       "  <div id=\"df-77f9af77-6568-45dc-80a3-91b921cd13b3\" class=\"colab-df-container\">\n",
       "    <div>\n",
       "<style scoped>\n",
       "    .dataframe tbody tr th:only-of-type {\n",
       "        vertical-align: middle;\n",
       "    }\n",
       "\n",
       "    .dataframe tbody tr th {\n",
       "        vertical-align: top;\n",
       "    }\n",
       "\n",
       "    .dataframe thead th {\n",
       "        text-align: right;\n",
       "    }\n",
       "</style>\n",
       "<table border=\"1\" class=\"dataframe\">\n",
       "  <thead>\n",
       "    <tr style=\"text-align: right;\">\n",
       "      <th></th>\n",
       "      <th>icao</th>\n",
       "      <th>iata</th>\n",
       "      <th>name</th>\n",
       "      <th>shortName</th>\n",
       "      <th>municipalityName</th>\n",
       "      <th>countryCode</th>\n",
       "      <th>location.lat</th>\n",
       "      <th>location.lon</th>\n",
       "    </tr>\n",
       "  </thead>\n",
       "  <tbody>\n",
       "    <tr>\n",
       "      <th>0</th>\n",
       "      <td>SBBV</td>\n",
       "      <td>BVB</td>\n",
       "      <td>Boa Vista Atlas Brasil Cantanhede</td>\n",
       "      <td>Atlas Brasil Cantanhede</td>\n",
       "      <td>Boa Vista</td>\n",
       "      <td>BR</td>\n",
       "      <td>2.841388</td>\n",
       "      <td>-60.692223</td>\n",
       "    </tr>\n",
       "    <tr>\n",
       "      <th>1</th>\n",
       "      <td>MRFL</td>\n",
       "      <td>FMG</td>\n",
       "      <td>Brasilito Flamingo</td>\n",
       "      <td>Flamingo</td>\n",
       "      <td>Brasilito</td>\n",
       "      <td>CR</td>\n",
       "      <td>10.418600</td>\n",
       "      <td>-85.782700</td>\n",
       "    </tr>\n",
       "  </tbody>\n",
       "</table>\n",
       "</div>\n",
       "    <div class=\"colab-df-buttons\">\n",
       "\n",
       "  <div class=\"colab-df-container\">\n",
       "    <button class=\"colab-df-convert\" onclick=\"convertToInteractive('df-77f9af77-6568-45dc-80a3-91b921cd13b3')\"\n",
       "            title=\"Convert this dataframe to an interactive table.\"\n",
       "            style=\"display:none;\">\n",
       "\n",
       "  <svg xmlns=\"http://www.w3.org/2000/svg\" height=\"24px\" viewBox=\"0 -960 960 960\">\n",
       "    <path d=\"M120-120v-720h720v720H120Zm60-500h600v-160H180v160Zm220 220h160v-160H400v160Zm0 220h160v-160H400v160ZM180-400h160v-160H180v160Zm440 0h160v-160H620v160ZM180-180h160v-160H180v160Zm440 0h160v-160H620v160Z\"/>\n",
       "  </svg>\n",
       "    </button>\n",
       "\n",
       "  <style>\n",
       "    .colab-df-container {\n",
       "      display:flex;\n",
       "      gap: 12px;\n",
       "    }\n",
       "\n",
       "    .colab-df-convert {\n",
       "      background-color: #E8F0FE;\n",
       "      border: none;\n",
       "      border-radius: 50%;\n",
       "      cursor: pointer;\n",
       "      display: none;\n",
       "      fill: #1967D2;\n",
       "      height: 32px;\n",
       "      padding: 0 0 0 0;\n",
       "      width: 32px;\n",
       "    }\n",
       "\n",
       "    .colab-df-convert:hover {\n",
       "      background-color: #E2EBFA;\n",
       "      box-shadow: 0px 1px 2px rgba(60, 64, 67, 0.3), 0px 1px 3px 1px rgba(60, 64, 67, 0.15);\n",
       "      fill: #174EA6;\n",
       "    }\n",
       "\n",
       "    .colab-df-buttons div {\n",
       "      margin-bottom: 4px;\n",
       "    }\n",
       "\n",
       "    [theme=dark] .colab-df-convert {\n",
       "      background-color: #3B4455;\n",
       "      fill: #D2E3FC;\n",
       "    }\n",
       "\n",
       "    [theme=dark] .colab-df-convert:hover {\n",
       "      background-color: #434B5C;\n",
       "      box-shadow: 0px 1px 3px 1px rgba(0, 0, 0, 0.15);\n",
       "      filter: drop-shadow(0px 1px 2px rgba(0, 0, 0, 0.3));\n",
       "      fill: #FFFFFF;\n",
       "    }\n",
       "  </style>\n",
       "\n",
       "    <script>\n",
       "      const buttonEl =\n",
       "        document.querySelector('#df-77f9af77-6568-45dc-80a3-91b921cd13b3 button.colab-df-convert');\n",
       "      buttonEl.style.display =\n",
       "        google.colab.kernel.accessAllowed ? 'block' : 'none';\n",
       "\n",
       "      async function convertToInteractive(key) {\n",
       "        const element = document.querySelector('#df-77f9af77-6568-45dc-80a3-91b921cd13b3');\n",
       "        const dataTable =\n",
       "          await google.colab.kernel.invokeFunction('convertToInteractive',\n",
       "                                                    [key], {});\n",
       "        if (!dataTable) return;\n",
       "\n",
       "        const docLinkHtml = 'Like what you see? Visit the ' +\n",
       "          '<a target=\"_blank\" href=https://colab.research.google.com/notebooks/data_table.ipynb>data table notebook</a>'\n",
       "          + ' to learn more about interactive tables.';\n",
       "        element.innerHTML = '';\n",
       "        dataTable['output_type'] = 'display_data';\n",
       "        await google.colab.output.renderOutput(dataTable, element);\n",
       "        const docLink = document.createElement('div');\n",
       "        docLink.innerHTML = docLinkHtml;\n",
       "        element.appendChild(docLink);\n",
       "      }\n",
       "    </script>\n",
       "  </div>\n",
       "\n",
       "\n",
       "<div id=\"df-51b6e61c-fc6a-491c-831e-f70b7b3766eb\">\n",
       "  <button class=\"colab-df-quickchart\" onclick=\"quickchart('df-51b6e61c-fc6a-491c-831e-f70b7b3766eb')\"\n",
       "            title=\"Suggest charts.\"\n",
       "            style=\"display:none;\">\n",
       "\n",
       "<svg xmlns=\"http://www.w3.org/2000/svg\" height=\"24px\"viewBox=\"0 0 24 24\"\n",
       "     width=\"24px\">\n",
       "    <g>\n",
       "        <path d=\"M19 3H5c-1.1 0-2 .9-2 2v14c0 1.1.9 2 2 2h14c1.1 0 2-.9 2-2V5c0-1.1-.9-2-2-2zM9 17H7v-7h2v7zm4 0h-2V7h2v10zm4 0h-2v-4h2v4z\"/>\n",
       "    </g>\n",
       "</svg>\n",
       "  </button>\n",
       "\n",
       "<style>\n",
       "  .colab-df-quickchart {\n",
       "      --bg-color: #E8F0FE;\n",
       "      --fill-color: #1967D2;\n",
       "      --hover-bg-color: #E2EBFA;\n",
       "      --hover-fill-color: #174EA6;\n",
       "      --disabled-fill-color: #AAA;\n",
       "      --disabled-bg-color: #DDD;\n",
       "  }\n",
       "\n",
       "  [theme=dark] .colab-df-quickchart {\n",
       "      --bg-color: #3B4455;\n",
       "      --fill-color: #D2E3FC;\n",
       "      --hover-bg-color: #434B5C;\n",
       "      --hover-fill-color: #FFFFFF;\n",
       "      --disabled-bg-color: #3B4455;\n",
       "      --disabled-fill-color: #666;\n",
       "  }\n",
       "\n",
       "  .colab-df-quickchart {\n",
       "    background-color: var(--bg-color);\n",
       "    border: none;\n",
       "    border-radius: 50%;\n",
       "    cursor: pointer;\n",
       "    display: none;\n",
       "    fill: var(--fill-color);\n",
       "    height: 32px;\n",
       "    padding: 0;\n",
       "    width: 32px;\n",
       "  }\n",
       "\n",
       "  .colab-df-quickchart:hover {\n",
       "    background-color: var(--hover-bg-color);\n",
       "    box-shadow: 0 1px 2px rgba(60, 64, 67, 0.3), 0 1px 3px 1px rgba(60, 64, 67, 0.15);\n",
       "    fill: var(--button-hover-fill-color);\n",
       "  }\n",
       "\n",
       "  .colab-df-quickchart-complete:disabled,\n",
       "  .colab-df-quickchart-complete:disabled:hover {\n",
       "    background-color: var(--disabled-bg-color);\n",
       "    fill: var(--disabled-fill-color);\n",
       "    box-shadow: none;\n",
       "  }\n",
       "\n",
       "  .colab-df-spinner {\n",
       "    border: 2px solid var(--fill-color);\n",
       "    border-color: transparent;\n",
       "    border-bottom-color: var(--fill-color);\n",
       "    animation:\n",
       "      spin 1s steps(1) infinite;\n",
       "  }\n",
       "\n",
       "  @keyframes spin {\n",
       "    0% {\n",
       "      border-color: transparent;\n",
       "      border-bottom-color: var(--fill-color);\n",
       "      border-left-color: var(--fill-color);\n",
       "    }\n",
       "    20% {\n",
       "      border-color: transparent;\n",
       "      border-left-color: var(--fill-color);\n",
       "      border-top-color: var(--fill-color);\n",
       "    }\n",
       "    30% {\n",
       "      border-color: transparent;\n",
       "      border-left-color: var(--fill-color);\n",
       "      border-top-color: var(--fill-color);\n",
       "      border-right-color: var(--fill-color);\n",
       "    }\n",
       "    40% {\n",
       "      border-color: transparent;\n",
       "      border-right-color: var(--fill-color);\n",
       "      border-top-color: var(--fill-color);\n",
       "    }\n",
       "    60% {\n",
       "      border-color: transparent;\n",
       "      border-right-color: var(--fill-color);\n",
       "    }\n",
       "    80% {\n",
       "      border-color: transparent;\n",
       "      border-right-color: var(--fill-color);\n",
       "      border-bottom-color: var(--fill-color);\n",
       "    }\n",
       "    90% {\n",
       "      border-color: transparent;\n",
       "      border-bottom-color: var(--fill-color);\n",
       "    }\n",
       "  }\n",
       "</style>\n",
       "\n",
       "  <script>\n",
       "    async function quickchart(key) {\n",
       "      const quickchartButtonEl =\n",
       "        document.querySelector('#' + key + ' button');\n",
       "      quickchartButtonEl.disabled = true;  // To prevent multiple clicks.\n",
       "      quickchartButtonEl.classList.add('colab-df-spinner');\n",
       "      try {\n",
       "        const charts = await google.colab.kernel.invokeFunction(\n",
       "            'suggestCharts', [key], {});\n",
       "      } catch (error) {\n",
       "        console.error('Error during call to suggestCharts:', error);\n",
       "      }\n",
       "      quickchartButtonEl.classList.remove('colab-df-spinner');\n",
       "      quickchartButtonEl.classList.add('colab-df-quickchart-complete');\n",
       "    }\n",
       "    (() => {\n",
       "      let quickchartButtonEl =\n",
       "        document.querySelector('#df-51b6e61c-fc6a-491c-831e-f70b7b3766eb button');\n",
       "      quickchartButtonEl.style.display =\n",
       "        google.colab.kernel.accessAllowed ? 'block' : 'none';\n",
       "    })();\n",
       "  </script>\n",
       "</div>\n",
       "    </div>\n",
       "  </div>\n"
      ],
      "text/plain": [
       "   icao iata                               name                shortName  \\\n",
       "0  SBBV  BVB  Boa Vista Atlas Brasil Cantanhede  Atlas Brasil Cantanhede   \n",
       "1  MRFL  FMG                 Brasilito Flamingo                 Flamingo   \n",
       "\n",
       "  municipalityName countryCode  location.lat  location.lon  \n",
       "0        Boa Vista          BR      2.841388    -60.692223  \n",
       "1        Brasilito          CR     10.418600    -85.782700  "
      ]
     },
     "execution_count": 10,
     "metadata": {},
     "output_type": "execute_result"
    }
   ],
   "source": [
    "pd.json_normalize(items['items'])"
   ]
  },
  {
   "cell_type": "code",
   "execution_count": 26,
   "metadata": {
    "colab": {
     "base_uri": "https://localhost:8080/"
    },
    "executionInfo": {
     "elapsed": 438,
     "status": "ok",
     "timestamp": 1694524271042,
     "user": {
      "displayName": "Felipe Rocha",
      "userId": "13209801955446981393"
     },
     "user_tz": -60
    },
    "id": "gEmnb7Wyg6AC",
    "outputId": "e78285c9-9a7b-461d-aef0-1581703db6fe"
   },
   "outputs": [
    {
     "name": "stdout",
     "output_type": "stream",
     "text": [
      "{'from': {'icao': 'LPPT', 'iata': 'LIS', 'name': 'Lisbon Portela', 'shortName': 'Portela', 'municipalityName': 'Lisbon', 'location': {'lat': 38.7813, 'lon': -9.135919}, 'countryCode': 'PT'}, 'to': {'icao': 'MRFL', 'iata': 'FMG', 'name': 'Brasilito Flamingo', 'shortName': 'Flamingo', 'municipalityName': 'Brasilito', 'location': {'lat': 10.4186, 'lon': -85.7827}, 'countryCode': 'CR'}, 'greatCircleDistance': {'meter': 8138000.5, 'km': 8138.0, 'mile': 5056.72, 'nm': 4394.17, 'feet': 26699476.71}, 'approxFlightTime': '10:05:00'}\n"
     ]
    }
   ],
   "source": [
    "# first we needed to get the icao codes, now we can look for time and distance of flights\n",
    "icao_from = 'LPPT'\n",
    "icao_to = 'MRFL'\n",
    "\n",
    "url = f\"https://aerodatabox.p.rapidapi.com/airports/icao/{icao_from}/distance-time/{icao_to}\"\n",
    "\n",
    "response = requests.get(url, headers=headers)\n",
    "\n",
    "print(response.json())"
   ]
  },
  {
   "cell_type": "code",
   "execution_count": 27,
   "metadata": {
    "colab": {
     "base_uri": "https://localhost:8080/",
     "height": 147
    },
    "executionInfo": {
     "elapsed": 4,
     "status": "ok",
     "timestamp": 1694524271043,
     "user": {
      "displayName": "Felipe Rocha",
      "userId": "13209801955446981393"
     },
     "user_tz": -60
    },
    "id": "cc-GeKhYg6AC",
    "outputId": "fdefef38-4473-4c95-d095-f3afb3bcacf2"
   },
   "outputs": [
    {
     "data": {
      "text/html": [
       "<div>\n",
       "<style scoped>\n",
       "    .dataframe tbody tr th:only-of-type {\n",
       "        vertical-align: middle;\n",
       "    }\n",
       "\n",
       "    .dataframe tbody tr th {\n",
       "        vertical-align: top;\n",
       "    }\n",
       "\n",
       "    .dataframe thead th {\n",
       "        text-align: right;\n",
       "    }\n",
       "</style>\n",
       "<table border=\"1\" class=\"dataframe\">\n",
       "  <thead>\n",
       "    <tr style=\"text-align: right;\">\n",
       "      <th></th>\n",
       "      <th>approxFlightTime</th>\n",
       "      <th>from.icao</th>\n",
       "      <th>from.iata</th>\n",
       "      <th>from.name</th>\n",
       "      <th>from.shortName</th>\n",
       "      <th>from.municipalityName</th>\n",
       "      <th>from.location.lat</th>\n",
       "      <th>from.location.lon</th>\n",
       "      <th>from.countryCode</th>\n",
       "      <th>to.icao</th>\n",
       "      <th>...</th>\n",
       "      <th>to.shortName</th>\n",
       "      <th>to.municipalityName</th>\n",
       "      <th>to.location.lat</th>\n",
       "      <th>to.location.lon</th>\n",
       "      <th>to.countryCode</th>\n",
       "      <th>greatCircleDistance.meter</th>\n",
       "      <th>greatCircleDistance.km</th>\n",
       "      <th>greatCircleDistance.mile</th>\n",
       "      <th>greatCircleDistance.nm</th>\n",
       "      <th>greatCircleDistance.feet</th>\n",
       "    </tr>\n",
       "  </thead>\n",
       "  <tbody>\n",
       "    <tr>\n",
       "      <th>0</th>\n",
       "      <td>10:05:00</td>\n",
       "      <td>LPPT</td>\n",
       "      <td>LIS</td>\n",
       "      <td>Lisbon Portela</td>\n",
       "      <td>Portela</td>\n",
       "      <td>Lisbon</td>\n",
       "      <td>38.7813</td>\n",
       "      <td>-9.135919</td>\n",
       "      <td>PT</td>\n",
       "      <td>MRFL</td>\n",
       "      <td>...</td>\n",
       "      <td>Flamingo</td>\n",
       "      <td>Brasilito</td>\n",
       "      <td>10.4186</td>\n",
       "      <td>-85.7827</td>\n",
       "      <td>CR</td>\n",
       "      <td>8138000.5</td>\n",
       "      <td>8138.0</td>\n",
       "      <td>5056.72</td>\n",
       "      <td>4394.17</td>\n",
       "      <td>26699476.71</td>\n",
       "    </tr>\n",
       "  </tbody>\n",
       "</table>\n",
       "<p>1 rows × 22 columns</p>\n",
       "</div>"
      ],
      "text/plain": [
       "  approxFlightTime from.icao from.iata       from.name from.shortName  \\\n",
       "0         10:05:00      LPPT       LIS  Lisbon Portela        Portela   \n",
       "\n",
       "  from.municipalityName  from.location.lat  from.location.lon  \\\n",
       "0                Lisbon            38.7813          -9.135919   \n",
       "\n",
       "  from.countryCode to.icao  ... to.shortName to.municipalityName  \\\n",
       "0               PT    MRFL  ...     Flamingo           Brasilito   \n",
       "\n",
       "  to.location.lat to.location.lon  to.countryCode  greatCircleDistance.meter  \\\n",
       "0         10.4186        -85.7827              CR                  8138000.5   \n",
       "\n",
       "  greatCircleDistance.km  greatCircleDistance.mile  greatCircleDistance.nm  \\\n",
       "0                 8138.0                   5056.72                 4394.17   \n",
       "\n",
       "   greatCircleDistance.feet  \n",
       "0               26699476.71  \n",
       "\n",
       "[1 rows x 22 columns]"
      ]
     },
     "execution_count": 27,
     "metadata": {},
     "output_type": "execute_result"
    }
   ],
   "source": [
    "pd.json_normalize(response.json())"
   ]
  },
  {
   "cell_type": "markdown",
   "metadata": {
    "id": "dYqYwRQCg6AC"
   },
   "source": [
    "#### Some cool functions ~to make things easier~"
   ]
  },
  {
   "cell_type": "code",
   "execution_count": 28,
   "metadata": {
    "executionInfo": {
     "elapsed": 7,
     "status": "ok",
     "timestamp": 1694524271505,
     "user": {
      "displayName": "Felipe Rocha",
      "userId": "13209801955446981393"
     },
     "user_tz": -60
    },
    "id": "Tw4lniRtg6AC"
   },
   "outputs": [],
   "source": [
    "# headers won't change\n",
    "# making functions so that we can use all these with changing inputs \n",
    "\n",
    "headers = {\n",
    "    'x-rapidapi-host': \"aerodatabox.p.rapidapi.com\",\n",
    "    'x-rapidapi-key': \"9613ca6ca5msh62659872159916fp1a0a2cjsndd9a3e6ff324\"\n",
    "    }\n",
    "\n",
    "# when user input location, then this function will get this strings and search via API, and then compares \n",
    "# with response in json() item key and returns the code of the airport\n",
    "def get_codes():\n",
    "\n",
    "    location = input('Insert location:')\n",
    "    print()\n",
    "\n",
    "    url = \"https://aerodatabox.p.rapidapi.com/airports/search/term\"\n",
    "    querystring = {\"q\":location.lower(), \"limit\":\"10\"}\n",
    "\n",
    "    response = requests.get(url, headers=headers, params=querystring)\n",
    "    codes = response.json()['items'] if 'items' in response.json() else location\n",
    "\n",
    "    return codes\n",
    "\n",
    "# this function is including the above function and will get input and find all stuffs and then \n",
    "# if codes has results(any string) or more than 1 result was appeared  \n",
    "'''\n",
    "If no airports are found and get_codes() returns a string (e.g., an error message), the while loop will continue.\n",
    "\n",
    "\n",
    "if not statement checks for the \"falsiness\" of a value. \n",
    "Some values in Python are considered \"falsy\" when used in a boolean context, meaning they are treated as False.\n",
    "\n",
    "Here are some common \"falsy\" values in Python:\n",
    "\n",
    "An empty string (\"\")\n",
    "The number 0\n",
    "An empty list ([])\n",
    "An empty dictionary ({})\n",
    "None (a special value indicating the absence of a value)\n",
    "'''\n",
    "\n",
    "\n",
    "def choose_code():\n",
    "\n",
    "    codes = get_codes()\n",
    "\n",
    "    while type(codes) is str or len(set([code['shortName'] for code in codes])) != 1:\n",
    "\n",
    "        if not codes:\n",
    "            print('Try another location. Unable to find code for:', codes, '\\n')\n",
    "        else:\n",
    "            print('More than one location found. Insert one of the following airports:', [code['shortName'] for code in codes], '\\n')\n",
    "\n",
    "        codes = get_codes()\n",
    "\n",
    "    return codes[0]['icao']\n",
    "\n",
    "\n",
    "def flight_distance_time(from_, to_):\n",
    "    url = f\"https://aerodatabox.p.rapidapi.com/airports/icao/{from_}/distance-time/{to_}\"\n",
    "    response = requests.get(url, headers=headers)\n",
    "    return pd.json_normalize(response.json()).T"
   ]
  },
  {
   "cell_type": "code",
   "execution_count": null,
   "metadata": {
    "colab": {
     "base_uri": "https://localhost:8080/",
     "height": 848
    },
    "executionInfo": {
     "elapsed": 8385,
     "status": "ok",
     "timestamp": 1694524591070,
     "user": {
      "displayName": "Felipe Rocha",
      "userId": "13209801955446981393"
     },
     "user_tz": -60
    },
    "id": "VX6O_Ddtg6AC",
    "outputId": "a816c329-0ec2-451f-a7a5-606222ae42b4"
   },
   "outputs": [
    {
     "name": "stdout",
     "output_type": "stream",
     "text": [
      "[DEPARTURE]\n"
     ]
    }
   ],
   "source": [
    "# this will get departure airport and destination airport by using API and print out distance time table with padas dataframe.\n",
    "\n",
    "print('[DEPARTURE]')\n",
    "from_ = choose_code()\n",
    "print('[DESTINATION]')\n",
    "to_ = choose_code()\n",
    "\n",
    "flight_df = flight_distance_time(from_, to_)\n",
    "flight_df"
   ]
  },
  {
   "cell_type": "code",
   "execution_count": null,
   "metadata": {
    "id": "5GGwzCWSg6AC"
   },
   "outputs": [],
   "source": []
  }
 ],
 "metadata": {
  "colab": {
   "provenance": []
  },
  "kernelspec": {
   "display_name": "Python 3 (ipykernel)",
   "language": "python",
   "name": "python3"
  },
  "language_info": {
   "codemirror_mode": {
    "name": "ipython",
    "version": 3
   },
   "file_extension": ".py",
   "mimetype": "text/x-python",
   "name": "python",
   "nbconvert_exporter": "python",
   "pygments_lexer": "ipython3",
   "version": "3.10.9"
  }
 },
 "nbformat": 4,
 "nbformat_minor": 1
}
